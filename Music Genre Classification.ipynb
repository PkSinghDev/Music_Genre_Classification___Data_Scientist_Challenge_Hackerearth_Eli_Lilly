{
 "cells": [
  {
   "cell_type": "code",
   "execution_count": 1,
   "id": "a720921f",
   "metadata": {},
   "outputs": [],
   "source": [
    "%config Completer.use_jedi = False"
   ]
  },
  {
   "cell_type": "markdown",
   "id": "2fc7fd7a",
   "metadata": {},
   "source": [
    "### 1. Importing all Libraries"
   ]
  },
  {
   "cell_type": "code",
   "execution_count": 2,
   "id": "9e83f866",
   "metadata": {},
   "outputs": [],
   "source": [
    "# For this project we would be needing: -\n",
    "# 1. pandas - Handling dataframes.\n",
    "# 2. numpy - Arrays & Mathematical Operations\n",
    "# 3. matplotlib - For Subplots\n",
    "# 4. seaborn - Plotting Styled Graphs\n",
    "# 5. multiprocessing - For efficient Usage of CPU's\n",
    "# 6. time - Calculating time taken for training of models.\n",
    "\n",
    "# We shall also be needing sklearn library for importing models."
   ]
  },
  {
   "cell_type": "code",
   "execution_count": 3,
   "id": "515016c3",
   "metadata": {},
   "outputs": [],
   "source": [
    "import numpy as np\n",
    "import pandas as pd\n",
    "import matplotlib.pyplot as plt\n",
    "import seaborn as sns\n",
    "from sklearn.model_selection import cross_val_score\n",
    "from sklearn.model_selection import GridSearchCV\n",
    "from sklearn import metrics\n",
    "import multiprocessing\n",
    "import time\n"
   ]
  },
  {
   "cell_type": "code",
   "execution_count": 4,
   "id": "bf49cca9",
   "metadata": {},
   "outputs": [],
   "source": [
    "notebook_start = time.time()"
   ]
  },
  {
   "cell_type": "code",
   "execution_count": 5,
   "id": "2e7803da",
   "metadata": {},
   "outputs": [],
   "source": [
    "# Listing Down All Algorithms Identified for Classification Challenge\n",
    "\n",
    "# Classification Algorithms: -\n",
    "#     Machine Learning: -\n",
    "#         1. Logistic Regression\n",
    "#         2. Naive Bayes Classifier\n",
    "#         3. Stochastic Gradient Descent - Used for more than 100K Datasets (So ruled out)\n",
    "#         4. k Nearest Neighbor\n",
    "#         5. Support Vector Machines\n",
    "#         6. Decision Trees\n",
    "#         7. Random Forest\n",
    "#     Deep Learning: -\n",
    "#         1. Multi Layer Perceptrons"
   ]
  },
  {
   "cell_type": "markdown",
   "id": "aef28601",
   "metadata": {},
   "source": [
    "### 2. Data Preprocessing"
   ]
  },
  {
   "cell_type": "code",
   "execution_count": 6,
   "id": "259f33cb",
   "metadata": {},
   "outputs": [],
   "source": [
    "# Employing Techniques of Data Preprocessing\n",
    "# 1. Data Cleaning (Handling NA Values)\n",
    "# 2. Encoding String Values\n",
    "# 3. Normalisation"
   ]
  },
  {
   "cell_type": "code",
   "execution_count": 7,
   "id": "b63c4944",
   "metadata": {},
   "outputs": [],
   "source": [
    "preproc_start = time.time()"
   ]
  },
  {
   "cell_type": "markdown",
   "id": "439ea4f1",
   "metadata": {},
   "source": [
    "#### Data Cleaning"
   ]
  },
  {
   "cell_type": "code",
   "execution_count": 8,
   "id": "3eeeda04",
   "metadata": {},
   "outputs": [],
   "source": [
    "train_data = pd.read_csv(\"./train.csv\")\n",
    "test_data = pd.read_csv(\"./test.csv\")"
   ]
  },
  {
   "cell_type": "code",
   "execution_count": 9,
   "id": "4b5f76b5",
   "metadata": {
    "scrolled": false
   },
   "outputs": [
    {
     "data": {
      "text/plain": [
       "instance_id             0\n",
       "track_name              0\n",
       "popularity            642\n",
       "acousticness            0\n",
       "danceability          556\n",
       "duration_ms            94\n",
       "energy                 94\n",
       "instrumentalness       95\n",
       "key                     0\n",
       "liveness                0\n",
       "loudness               36\n",
       "voice_gender          765\n",
       "mode                 1114\n",
       "speechiness            26\n",
       "tempo                1476\n",
       "musician_category    1360\n",
       "valence               677\n",
       "music_genre             0\n",
       "dtype: int64"
      ]
     },
     "execution_count": 9,
     "metadata": {},
     "output_type": "execute_result"
    }
   ],
   "source": [
    "train_data.replace('?', np.nan, inplace = True)\n",
    "test_data.replace('?', np.nan, inplace = True)\n",
    "train_data.isna().sum()"
   ]
  },
  {
   "cell_type": "code",
   "execution_count": 10,
   "id": "cf7354f8",
   "metadata": {},
   "outputs": [],
   "source": [
    "train_data['tempo'] = pd.to_numeric(arg = train_data['tempo'])\n",
    "test_data['tempo'] = pd.to_numeric(arg = test_data['tempo'])"
   ]
  },
  {
   "cell_type": "code",
   "execution_count": 11,
   "id": "eb04cf73",
   "metadata": {},
   "outputs": [],
   "source": [
    "train_data['popularity'].fillna(train_data['popularity'].mean(), inplace = True)\n",
    "train_data['danceability'].fillna(train_data['danceability'].mean(), inplace = True)\n",
    "train_data['duration_ms'].fillna(train_data['duration_ms'].mean(), inplace = True)\n",
    "train_data['energy'].fillna(train_data['energy'].mean(), inplace = True)\n",
    "train_data['instrumentalness'].fillna(train_data['instrumentalness'].mean(), inplace = True)\n",
    "train_data['loudness'].fillna(train_data['loudness'].mean(), inplace = True)\n",
    "train_data['speechiness'].fillna(train_data['speechiness'].mean(), inplace = True)\n",
    "train_data['tempo'].fillna(train_data['tempo'].mean(), inplace = True)\n",
    "train_data['valence'].fillna(train_data['valence'].mean(), inplace = True)\n",
    "\n",
    "train_data[['voice_gender', 'mode', 'musician_category']] = train_data[['voice_gender', 'mode', 'musician_category']].fillna('X')"
   ]
  },
  {
   "cell_type": "code",
   "execution_count": 12,
   "id": "e3f6e9e1",
   "metadata": {},
   "outputs": [],
   "source": [
    "test_data['popularity'].fillna(train_data['popularity'].mean(), inplace = True)\n",
    "test_data['danceability'].fillna(train_data['danceability'].mean(), inplace = True)\n",
    "test_data['duration_ms'].fillna(train_data['duration_ms'].mean(), inplace = True)\n",
    "test_data['energy'].fillna(train_data['energy'].mean(), inplace = True)\n",
    "test_data['instrumentalness'].fillna(train_data['instrumentalness'].mean(), inplace = True)\n",
    "test_data['loudness'].fillna(train_data['loudness'].mean(), inplace = True)\n",
    "test_data['speechiness'].fillna(train_data['speechiness'].mean(), inplace = True)\n",
    "test_data['tempo'].fillna(train_data['tempo'].mean(), inplace = True)\n",
    "test_data['valence'].fillna(train_data['valence'].mean(), inplace = True)\n",
    "\n",
    "test_data[['voice_gender', 'mode', 'musician_category']] = test_data[['voice_gender', 'mode', 'musician_category']].fillna('X')"
   ]
  },
  {
   "cell_type": "code",
   "execution_count": 13,
   "id": "bc6302cb",
   "metadata": {
    "scrolled": false
   },
   "outputs": [
    {
     "name": "stdout",
     "output_type": "stream",
     "text": [
      "instance_id          0\n",
      "track_name           0\n",
      "popularity           0\n",
      "acousticness         0\n",
      "danceability         0\n",
      "duration_ms          0\n",
      "energy               0\n",
      "instrumentalness     0\n",
      "key                  0\n",
      "liveness             0\n",
      "loudness             0\n",
      "voice_gender         0\n",
      "mode                 0\n",
      "speechiness          0\n",
      "tempo                0\n",
      "musician_category    0\n",
      "valence              0\n",
      "music_genre          0\n",
      "dtype: int64\n",
      "(15681, 18)\n"
     ]
    }
   ],
   "source": [
    "print(train_data.isna().sum())\n",
    "print(train_data.shape)"
   ]
  },
  {
   "cell_type": "code",
   "execution_count": 14,
   "id": "a1f7856b",
   "metadata": {
    "scrolled": true
   },
   "outputs": [
    {
     "name": "stdout",
     "output_type": "stream",
     "text": [
      "instance_id          0\n",
      "track_name           0\n",
      "popularity           0\n",
      "acousticness         0\n",
      "danceability         0\n",
      "duration_ms          0\n",
      "energy               0\n",
      "instrumentalness     0\n",
      "key                  0\n",
      "liveness             0\n",
      "loudness             0\n",
      "voice_gender         0\n",
      "mode                 0\n",
      "speechiness          0\n",
      "tempo                0\n",
      "musician_category    0\n",
      "valence              0\n",
      "dtype: int64\n",
      "(3921, 17)\n"
     ]
    }
   ],
   "source": [
    "print(test_data.isna().sum())\n",
    "print(test_data.shape)"
   ]
  },
  {
   "cell_type": "code",
   "execution_count": 15,
   "id": "58ae3183",
   "metadata": {},
   "outputs": [
    {
     "data": {
      "text/html": [
       "<div>\n",
       "<style scoped>\n",
       "    .dataframe tbody tr th:only-of-type {\n",
       "        vertical-align: middle;\n",
       "    }\n",
       "\n",
       "    .dataframe tbody tr th {\n",
       "        vertical-align: top;\n",
       "    }\n",
       "\n",
       "    .dataframe thead th {\n",
       "        text-align: right;\n",
       "    }\n",
       "</style>\n",
       "<table border=\"1\" class=\"dataframe\">\n",
       "  <thead>\n",
       "    <tr style=\"text-align: right;\">\n",
       "      <th></th>\n",
       "      <th>instance_id</th>\n",
       "      <th>track_name</th>\n",
       "      <th>popularity</th>\n",
       "      <th>acousticness</th>\n",
       "      <th>danceability</th>\n",
       "      <th>duration_ms</th>\n",
       "      <th>energy</th>\n",
       "      <th>instrumentalness</th>\n",
       "      <th>key</th>\n",
       "      <th>liveness</th>\n",
       "      <th>loudness</th>\n",
       "      <th>voice_gender</th>\n",
       "      <th>mode</th>\n",
       "      <th>speechiness</th>\n",
       "      <th>tempo</th>\n",
       "      <th>musician_category</th>\n",
       "      <th>valence</th>\n",
       "      <th>music_genre</th>\n",
       "    </tr>\n",
       "  </thead>\n",
       "  <tbody>\n",
       "    <tr>\n",
       "      <th>0</th>\n",
       "      <td>MSC_83537.0</td>\n",
       "      <td>Estrellitas y Duendes</td>\n",
       "      <td>49.178</td>\n",
       "      <td>0.970522</td>\n",
       "      <td>0.580508</td>\n",
       "      <td>214625.776</td>\n",
       "      <td>0.192107</td>\n",
       "      <td>0.000000</td>\n",
       "      <td>Scale E</td>\n",
       "      <td>0.147134</td>\n",
       "      <td>-14.140</td>\n",
       "      <td>X</td>\n",
       "      <td>Major</td>\n",
       "      <td>0.046404</td>\n",
       "      <td>143.788000</td>\n",
       "      <td>Band</td>\n",
       "      <td>0.598965</td>\n",
       "      <td>Jazz</td>\n",
       "    </tr>\n",
       "    <tr>\n",
       "      <th>1</th>\n",
       "      <td>MSC_22044.0</td>\n",
       "      <td>Al Norte</td>\n",
       "      <td>59.827</td>\n",
       "      <td>1.009380</td>\n",
       "      <td>0.687542</td>\n",
       "      <td>216232.195</td>\n",
       "      <td>0.265942</td>\n",
       "      <td>0.000030</td>\n",
       "      <td>Scale A</td>\n",
       "      <td>0.174655</td>\n",
       "      <td>-13.716</td>\n",
       "      <td>Male</td>\n",
       "      <td>X</td>\n",
       "      <td>0.039949</td>\n",
       "      <td>115.447641</td>\n",
       "      <td>Band</td>\n",
       "      <td>0.357194</td>\n",
       "      <td>Jazz</td>\n",
       "    </tr>\n",
       "    <tr>\n",
       "      <th>2</th>\n",
       "      <td>MSC_62017.0</td>\n",
       "      <td>Yeah! (feat. Lil Jon &amp; Ludacris)</td>\n",
       "      <td>89.023</td>\n",
       "      <td>0.020041</td>\n",
       "      <td>0.967948</td>\n",
       "      <td>273314.723</td>\n",
       "      <td>0.857411</td>\n",
       "      <td>0.000000</td>\n",
       "      <td>Scale D</td>\n",
       "      <td>0.042030</td>\n",
       "      <td>-4.995</td>\n",
       "      <td>Female</td>\n",
       "      <td>Major</td>\n",
       "      <td>0.119917</td>\n",
       "      <td>105.018000</td>\n",
       "      <td>Band</td>\n",
       "      <td>0.635525</td>\n",
       "      <td>Rap</td>\n",
       "    </tr>\n",
       "    <tr>\n",
       "      <th>3</th>\n",
       "      <td>MSC_76365.0</td>\n",
       "      <td>Can’t You See</td>\n",
       "      <td>55.762</td>\n",
       "      <td>0.010284</td>\n",
       "      <td>0.616287</td>\n",
       "      <td>189189.605</td>\n",
       "      <td>0.970513</td>\n",
       "      <td>0.000220</td>\n",
       "      <td>Scale D</td>\n",
       "      <td>0.124637</td>\n",
       "      <td>-4.262</td>\n",
       "      <td>Both</td>\n",
       "      <td>Major</td>\n",
       "      <td>0.167493</td>\n",
       "      <td>115.447641</td>\n",
       "      <td>Duet</td>\n",
       "      <td>0.983750</td>\n",
       "      <td>Rock</td>\n",
       "    </tr>\n",
       "    <tr>\n",
       "      <th>4</th>\n",
       "      <td>MSC_71493.0</td>\n",
       "      <td>Sonata III (G Moll), BWV 1029: Adagio</td>\n",
       "      <td>45.095</td>\n",
       "      <td>0.858769</td>\n",
       "      <td>0.280645</td>\n",
       "      <td>410136.987</td>\n",
       "      <td>0.114732</td>\n",
       "      <td>0.002753</td>\n",
       "      <td>Scale F Sharp</td>\n",
       "      <td>0.134782</td>\n",
       "      <td>-26.922</td>\n",
       "      <td>Female</td>\n",
       "      <td>Minor</td>\n",
       "      <td>0.039139</td>\n",
       "      <td>112.183000</td>\n",
       "      <td>Band</td>\n",
       "      <td>0.074412</td>\n",
       "      <td>Classical</td>\n",
       "    </tr>\n",
       "  </tbody>\n",
       "</table>\n",
       "</div>"
      ],
      "text/plain": [
       "   instance_id                             track_name  popularity  \\\n",
       "0  MSC_83537.0                  Estrellitas y Duendes      49.178   \n",
       "1  MSC_22044.0                               Al Norte      59.827   \n",
       "2  MSC_62017.0       Yeah! (feat. Lil Jon & Ludacris)      89.023   \n",
       "3  MSC_76365.0                          Can’t You See      55.762   \n",
       "4  MSC_71493.0  Sonata III (G Moll), BWV 1029: Adagio      45.095   \n",
       "\n",
       "   acousticness  danceability  duration_ms    energy  instrumentalness  \\\n",
       "0      0.970522      0.580508   214625.776  0.192107          0.000000   \n",
       "1      1.009380      0.687542   216232.195  0.265942          0.000030   \n",
       "2      0.020041      0.967948   273314.723  0.857411          0.000000   \n",
       "3      0.010284      0.616287   189189.605  0.970513          0.000220   \n",
       "4      0.858769      0.280645   410136.987  0.114732          0.002753   \n",
       "\n",
       "             key  liveness  loudness voice_gender   mode  speechiness  \\\n",
       "0        Scale E  0.147134   -14.140            X  Major     0.046404   \n",
       "1        Scale A  0.174655   -13.716         Male      X     0.039949   \n",
       "2        Scale D  0.042030    -4.995       Female  Major     0.119917   \n",
       "3        Scale D  0.124637    -4.262         Both  Major     0.167493   \n",
       "4  Scale F Sharp  0.134782   -26.922       Female  Minor     0.039139   \n",
       "\n",
       "        tempo musician_category   valence music_genre  \n",
       "0  143.788000              Band  0.598965        Jazz  \n",
       "1  115.447641              Band  0.357194        Jazz  \n",
       "2  105.018000              Band  0.635525         Rap  \n",
       "3  115.447641              Duet  0.983750        Rock  \n",
       "4  112.183000              Band  0.074412   Classical  "
      ]
     },
     "execution_count": 15,
     "metadata": {},
     "output_type": "execute_result"
    }
   ],
   "source": [
    "train_data.head()"
   ]
  },
  {
   "cell_type": "markdown",
   "id": "7f7e2688",
   "metadata": {},
   "source": [
    "#### Enconding String Values"
   ]
  },
  {
   "cell_type": "code",
   "execution_count": 16,
   "id": "ef2230c2",
   "metadata": {},
   "outputs": [],
   "source": [
    "from sklearn.preprocessing import LabelEncoder\n",
    "\n",
    "le_key = LabelEncoder()\n",
    "le_vg = LabelEncoder()\n",
    "le_mode = LabelEncoder()\n",
    "le_mc = LabelEncoder()\n",
    "le_mg = LabelEncoder()\n",
    "\n",
    "train_data['key'] = le_key.fit_transform(train_data['key'])\n",
    "test_data['key'] = le_key.transform(test_data['key'])\n",
    "\n",
    "train_data['voice_gender'] = le_vg.fit_transform(train_data['voice_gender'])\n",
    "test_data['voice_gender'] = le_vg.transform(test_data['voice_gender'])\n",
    "\n",
    "train_data['mode'] = le_mode.fit_transform(train_data['mode'])\n",
    "test_data['mode'] = le_mode.transform(test_data['mode'])\n",
    "\n",
    "train_data['musician_category'] = le_mc.fit_transform(train_data['musician_category'])\n",
    "test_data['musician_category'] = le_mc.transform(test_data['musician_category'])\n",
    "\n",
    "train_data['music_genre'] = le_mg.fit_transform(train_data['music_genre'])"
   ]
  },
  {
   "cell_type": "code",
   "execution_count": 17,
   "id": "50ba9a15",
   "metadata": {},
   "outputs": [],
   "source": [
    "train_data.replace('X', 0, inplace = True)\n",
    "test_data.replace('X', 0, inplace = True)"
   ]
  },
  {
   "cell_type": "code",
   "execution_count": 18,
   "id": "61f76542",
   "metadata": {},
   "outputs": [
    {
     "data": {
      "text/html": [
       "<div>\n",
       "<style scoped>\n",
       "    .dataframe tbody tr th:only-of-type {\n",
       "        vertical-align: middle;\n",
       "    }\n",
       "\n",
       "    .dataframe tbody tr th {\n",
       "        vertical-align: top;\n",
       "    }\n",
       "\n",
       "    .dataframe thead th {\n",
       "        text-align: right;\n",
       "    }\n",
       "</style>\n",
       "<table border=\"1\" class=\"dataframe\">\n",
       "  <thead>\n",
       "    <tr style=\"text-align: right;\">\n",
       "      <th></th>\n",
       "      <th>instance_id</th>\n",
       "      <th>track_name</th>\n",
       "      <th>popularity</th>\n",
       "      <th>acousticness</th>\n",
       "      <th>danceability</th>\n",
       "      <th>duration_ms</th>\n",
       "      <th>energy</th>\n",
       "      <th>instrumentalness</th>\n",
       "      <th>key</th>\n",
       "      <th>liveness</th>\n",
       "      <th>loudness</th>\n",
       "      <th>voice_gender</th>\n",
       "      <th>mode</th>\n",
       "      <th>speechiness</th>\n",
       "      <th>tempo</th>\n",
       "      <th>musician_category</th>\n",
       "      <th>valence</th>\n",
       "      <th>music_genre</th>\n",
       "    </tr>\n",
       "  </thead>\n",
       "  <tbody>\n",
       "    <tr>\n",
       "      <th>0</th>\n",
       "      <td>MSC_83537.0</td>\n",
       "      <td>Estrellitas y Duendes</td>\n",
       "      <td>49.178</td>\n",
       "      <td>0.970522</td>\n",
       "      <td>0.580508</td>\n",
       "      <td>214625.776</td>\n",
       "      <td>0.192107</td>\n",
       "      <td>0.000000</td>\n",
       "      <td>7</td>\n",
       "      <td>0.147134</td>\n",
       "      <td>-14.140</td>\n",
       "      <td>3</td>\n",
       "      <td>0</td>\n",
       "      <td>0.046404</td>\n",
       "      <td>143.788000</td>\n",
       "      <td>0</td>\n",
       "      <td>0.598965</td>\n",
       "      <td>4</td>\n",
       "    </tr>\n",
       "    <tr>\n",
       "      <th>1</th>\n",
       "      <td>MSC_22044.0</td>\n",
       "      <td>Al Norte</td>\n",
       "      <td>59.827</td>\n",
       "      <td>1.009380</td>\n",
       "      <td>0.687542</td>\n",
       "      <td>216232.195</td>\n",
       "      <td>0.265942</td>\n",
       "      <td>0.000030</td>\n",
       "      <td>0</td>\n",
       "      <td>0.174655</td>\n",
       "      <td>-13.716</td>\n",
       "      <td>2</td>\n",
       "      <td>2</td>\n",
       "      <td>0.039949</td>\n",
       "      <td>115.447641</td>\n",
       "      <td>0</td>\n",
       "      <td>0.357194</td>\n",
       "      <td>4</td>\n",
       "    </tr>\n",
       "    <tr>\n",
       "      <th>2</th>\n",
       "      <td>MSC_62017.0</td>\n",
       "      <td>Yeah! (feat. Lil Jon &amp; Ludacris)</td>\n",
       "      <td>89.023</td>\n",
       "      <td>0.020041</td>\n",
       "      <td>0.967948</td>\n",
       "      <td>273314.723</td>\n",
       "      <td>0.857411</td>\n",
       "      <td>0.000000</td>\n",
       "      <td>5</td>\n",
       "      <td>0.042030</td>\n",
       "      <td>-4.995</td>\n",
       "      <td>1</td>\n",
       "      <td>0</td>\n",
       "      <td>0.119917</td>\n",
       "      <td>105.018000</td>\n",
       "      <td>0</td>\n",
       "      <td>0.635525</td>\n",
       "      <td>5</td>\n",
       "    </tr>\n",
       "    <tr>\n",
       "      <th>3</th>\n",
       "      <td>MSC_76365.0</td>\n",
       "      <td>Can’t You See</td>\n",
       "      <td>55.762</td>\n",
       "      <td>0.010284</td>\n",
       "      <td>0.616287</td>\n",
       "      <td>189189.605</td>\n",
       "      <td>0.970513</td>\n",
       "      <td>0.000220</td>\n",
       "      <td>5</td>\n",
       "      <td>0.124637</td>\n",
       "      <td>-4.262</td>\n",
       "      <td>0</td>\n",
       "      <td>0</td>\n",
       "      <td>0.167493</td>\n",
       "      <td>115.447641</td>\n",
       "      <td>1</td>\n",
       "      <td>0.983750</td>\n",
       "      <td>6</td>\n",
       "    </tr>\n",
       "    <tr>\n",
       "      <th>4</th>\n",
       "      <td>MSC_71493.0</td>\n",
       "      <td>Sonata III (G Moll), BWV 1029: Adagio</td>\n",
       "      <td>45.095</td>\n",
       "      <td>0.858769</td>\n",
       "      <td>0.280645</td>\n",
       "      <td>410136.987</td>\n",
       "      <td>0.114732</td>\n",
       "      <td>0.002753</td>\n",
       "      <td>9</td>\n",
       "      <td>0.134782</td>\n",
       "      <td>-26.922</td>\n",
       "      <td>1</td>\n",
       "      <td>1</td>\n",
       "      <td>0.039139</td>\n",
       "      <td>112.183000</td>\n",
       "      <td>0</td>\n",
       "      <td>0.074412</td>\n",
       "      <td>0</td>\n",
       "    </tr>\n",
       "  </tbody>\n",
       "</table>\n",
       "</div>"
      ],
      "text/plain": [
       "   instance_id                             track_name  popularity  \\\n",
       "0  MSC_83537.0                  Estrellitas y Duendes      49.178   \n",
       "1  MSC_22044.0                               Al Norte      59.827   \n",
       "2  MSC_62017.0       Yeah! (feat. Lil Jon & Ludacris)      89.023   \n",
       "3  MSC_76365.0                          Can’t You See      55.762   \n",
       "4  MSC_71493.0  Sonata III (G Moll), BWV 1029: Adagio      45.095   \n",
       "\n",
       "   acousticness  danceability  duration_ms    energy  instrumentalness  key  \\\n",
       "0      0.970522      0.580508   214625.776  0.192107          0.000000    7   \n",
       "1      1.009380      0.687542   216232.195  0.265942          0.000030    0   \n",
       "2      0.020041      0.967948   273314.723  0.857411          0.000000    5   \n",
       "3      0.010284      0.616287   189189.605  0.970513          0.000220    5   \n",
       "4      0.858769      0.280645   410136.987  0.114732          0.002753    9   \n",
       "\n",
       "   liveness  loudness  voice_gender  mode  speechiness       tempo  \\\n",
       "0  0.147134   -14.140             3     0     0.046404  143.788000   \n",
       "1  0.174655   -13.716             2     2     0.039949  115.447641   \n",
       "2  0.042030    -4.995             1     0     0.119917  105.018000   \n",
       "3  0.124637    -4.262             0     0     0.167493  115.447641   \n",
       "4  0.134782   -26.922             1     1     0.039139  112.183000   \n",
       "\n",
       "   musician_category   valence  music_genre  \n",
       "0                  0  0.598965            4  \n",
       "1                  0  0.357194            4  \n",
       "2                  0  0.635525            5  \n",
       "3                  1  0.983750            6  \n",
       "4                  0  0.074412            0  "
      ]
     },
     "execution_count": 18,
     "metadata": {},
     "output_type": "execute_result"
    }
   ],
   "source": [
    "train_data.head()"
   ]
  },
  {
   "cell_type": "code",
   "execution_count": 19,
   "id": "ad7d8696",
   "metadata": {},
   "outputs": [
    {
     "data": {
      "text/html": [
       "<div>\n",
       "<style scoped>\n",
       "    .dataframe tbody tr th:only-of-type {\n",
       "        vertical-align: middle;\n",
       "    }\n",
       "\n",
       "    .dataframe tbody tr th {\n",
       "        vertical-align: top;\n",
       "    }\n",
       "\n",
       "    .dataframe thead th {\n",
       "        text-align: right;\n",
       "    }\n",
       "</style>\n",
       "<table border=\"1\" class=\"dataframe\">\n",
       "  <thead>\n",
       "    <tr style=\"text-align: right;\">\n",
       "      <th></th>\n",
       "      <th>instance_id</th>\n",
       "      <th>track_name</th>\n",
       "      <th>popularity</th>\n",
       "      <th>acousticness</th>\n",
       "      <th>danceability</th>\n",
       "      <th>duration_ms</th>\n",
       "      <th>energy</th>\n",
       "      <th>instrumentalness</th>\n",
       "      <th>key</th>\n",
       "      <th>liveness</th>\n",
       "      <th>loudness</th>\n",
       "      <th>voice_gender</th>\n",
       "      <th>mode</th>\n",
       "      <th>speechiness</th>\n",
       "      <th>tempo</th>\n",
       "      <th>musician_category</th>\n",
       "      <th>valence</th>\n",
       "    </tr>\n",
       "  </thead>\n",
       "  <tbody>\n",
       "    <tr>\n",
       "      <th>0</th>\n",
       "      <td>MSC_70753.0</td>\n",
       "      <td>Bard, a Man of Lake-town - Extended Version</td>\n",
       "      <td>26.101</td>\n",
       "      <td>0.823765</td>\n",
       "      <td>0.115490</td>\n",
       "      <td>211462.287</td>\n",
       "      <td>0.125325</td>\n",
       "      <td>0.945272</td>\n",
       "      <td>1</td>\n",
       "      <td>0.120392</td>\n",
       "      <td>-25.541</td>\n",
       "      <td>0</td>\n",
       "      <td>1</td>\n",
       "      <td>0.038657</td>\n",
       "      <td>80.777</td>\n",
       "      <td>1</td>\n",
       "      <td>0.041238</td>\n",
       "    </tr>\n",
       "    <tr>\n",
       "      <th>1</th>\n",
       "      <td>MSC_24064.0</td>\n",
       "      <td>New Kings</td>\n",
       "      <td>66.325</td>\n",
       "      <td>0.015441</td>\n",
       "      <td>0.592838</td>\n",
       "      <td>249151.238</td>\n",
       "      <td>0.870798</td>\n",
       "      <td>0.000108</td>\n",
       "      <td>7</td>\n",
       "      <td>0.406722</td>\n",
       "      <td>-3.905</td>\n",
       "      <td>2</td>\n",
       "      <td>2</td>\n",
       "      <td>0.051368</td>\n",
       "      <td>76.004</td>\n",
       "      <td>0</td>\n",
       "      <td>0.456309</td>\n",
       "    </tr>\n",
       "    <tr>\n",
       "      <th>2</th>\n",
       "      <td>MSC_22731.0</td>\n",
       "      <td>Silver Lining</td>\n",
       "      <td>71.871</td>\n",
       "      <td>0.001006</td>\n",
       "      <td>0.510340</td>\n",
       "      <td>215693.240</td>\n",
       "      <td>0.683077</td>\n",
       "      <td>0.000000</td>\n",
       "      <td>3</td>\n",
       "      <td>0.084608</td>\n",
       "      <td>-6.825</td>\n",
       "      <td>1</td>\n",
       "      <td>0</td>\n",
       "      <td>0.034303</td>\n",
       "      <td>144.458</td>\n",
       "      <td>2</td>\n",
       "      <td>0.193332</td>\n",
       "    </tr>\n",
       "    <tr>\n",
       "      <th>3</th>\n",
       "      <td>MSC_32095.0</td>\n",
       "      <td>A Tale That Wasn't Right</td>\n",
       "      <td>56.151</td>\n",
       "      <td>0.315650</td>\n",
       "      <td>0.338336</td>\n",
       "      <td>307056.179</td>\n",
       "      <td>0.608904</td>\n",
       "      <td>0.000000</td>\n",
       "      <td>0</td>\n",
       "      <td>0.276811</td>\n",
       "      <td>-8.382</td>\n",
       "      <td>1</td>\n",
       "      <td>1</td>\n",
       "      <td>0.036934</td>\n",
       "      <td>118.145</td>\n",
       "      <td>2</td>\n",
       "      <td>0.214906</td>\n",
       "    </tr>\n",
       "    <tr>\n",
       "      <th>4</th>\n",
       "      <td>MSC_24198.0</td>\n",
       "      <td>Get Ready</td>\n",
       "      <td>43.687</td>\n",
       "      <td>0.038336</td>\n",
       "      <td>0.773904</td>\n",
       "      <td>352802.872</td>\n",
       "      <td>0.955500</td>\n",
       "      <td>0.000007</td>\n",
       "      <td>5</td>\n",
       "      <td>0.301726</td>\n",
       "      <td>-4.733</td>\n",
       "      <td>0</td>\n",
       "      <td>0</td>\n",
       "      <td>0.079688</td>\n",
       "      <td>95.012</td>\n",
       "      <td>1</td>\n",
       "      <td>0.757347</td>\n",
       "    </tr>\n",
       "  </tbody>\n",
       "</table>\n",
       "</div>"
      ],
      "text/plain": [
       "   instance_id                                   track_name  popularity  \\\n",
       "0  MSC_70753.0  Bard, a Man of Lake-town - Extended Version      26.101   \n",
       "1  MSC_24064.0                                    New Kings      66.325   \n",
       "2  MSC_22731.0                                Silver Lining      71.871   \n",
       "3  MSC_32095.0                     A Tale That Wasn't Right      56.151   \n",
       "4  MSC_24198.0                                    Get Ready      43.687   \n",
       "\n",
       "   acousticness  danceability  duration_ms    energy  instrumentalness  key  \\\n",
       "0      0.823765      0.115490   211462.287  0.125325          0.945272    1   \n",
       "1      0.015441      0.592838   249151.238  0.870798          0.000108    7   \n",
       "2      0.001006      0.510340   215693.240  0.683077          0.000000    3   \n",
       "3      0.315650      0.338336   307056.179  0.608904          0.000000    0   \n",
       "4      0.038336      0.773904   352802.872  0.955500          0.000007    5   \n",
       "\n",
       "   liveness  loudness  voice_gender  mode  speechiness    tempo  \\\n",
       "0  0.120392   -25.541             0     1     0.038657   80.777   \n",
       "1  0.406722    -3.905             2     2     0.051368   76.004   \n",
       "2  0.084608    -6.825             1     0     0.034303  144.458   \n",
       "3  0.276811    -8.382             1     1     0.036934  118.145   \n",
       "4  0.301726    -4.733             0     0     0.079688   95.012   \n",
       "\n",
       "   musician_category   valence  \n",
       "0                  1  0.041238  \n",
       "1                  0  0.456309  \n",
       "2                  2  0.193332  \n",
       "3                  2  0.214906  \n",
       "4                  1  0.757347  "
      ]
     },
     "execution_count": 19,
     "metadata": {},
     "output_type": "execute_result"
    }
   ],
   "source": [
    "test_data.head()"
   ]
  },
  {
   "cell_type": "markdown",
   "id": "fd6c6c7c",
   "metadata": {},
   "source": [
    "#### Normalisation"
   ]
  },
  {
   "cell_type": "code",
   "execution_count": 20,
   "id": "f61910ce",
   "metadata": {},
   "outputs": [],
   "source": [
    "from sklearn.preprocessing import MinMaxScaler\n",
    "\n",
    "scaler = MinMaxScaler()\n",
    "train_data.iloc[:, 2:-1] = scaler.fit_transform(train_data.iloc[:, 2:-1].values)\n",
    "test_data.iloc[:, 2:] = scaler.transform(test_data.iloc[:, 2:].values)"
   ]
  },
  {
   "cell_type": "code",
   "execution_count": 21,
   "id": "608fd14b",
   "metadata": {
    "scrolled": false
   },
   "outputs": [
    {
     "data": {
      "text/html": [
       "<div>\n",
       "<style scoped>\n",
       "    .dataframe tbody tr th:only-of-type {\n",
       "        vertical-align: middle;\n",
       "    }\n",
       "\n",
       "    .dataframe tbody tr th {\n",
       "        vertical-align: top;\n",
       "    }\n",
       "\n",
       "    .dataframe thead th {\n",
       "        text-align: right;\n",
       "    }\n",
       "</style>\n",
       "<table border=\"1\" class=\"dataframe\">\n",
       "  <thead>\n",
       "    <tr style=\"text-align: right;\">\n",
       "      <th></th>\n",
       "      <th>instance_id</th>\n",
       "      <th>track_name</th>\n",
       "      <th>popularity</th>\n",
       "      <th>acousticness</th>\n",
       "      <th>danceability</th>\n",
       "      <th>duration_ms</th>\n",
       "      <th>energy</th>\n",
       "      <th>instrumentalness</th>\n",
       "      <th>key</th>\n",
       "      <th>liveness</th>\n",
       "      <th>loudness</th>\n",
       "      <th>voice_gender</th>\n",
       "      <th>mode</th>\n",
       "      <th>speechiness</th>\n",
       "      <th>tempo</th>\n",
       "      <th>musician_category</th>\n",
       "      <th>valence</th>\n",
       "      <th>music_genre</th>\n",
       "    </tr>\n",
       "  </thead>\n",
       "  <tbody>\n",
       "    <tr>\n",
       "      <th>0</th>\n",
       "      <td>MSC_83537.0</td>\n",
       "      <td>Estrellitas y Duendes</td>\n",
       "      <td>0.453203</td>\n",
       "      <td>0.886799</td>\n",
       "      <td>0.512382</td>\n",
       "      <td>0.062933</td>\n",
       "      <td>0.569065</td>\n",
       "      <td>0.000000</td>\n",
       "      <td>0.636364</td>\n",
       "      <td>0.122598</td>\n",
       "      <td>0.698132</td>\n",
       "      <td>1.000000</td>\n",
       "      <td>0.0</td>\n",
       "      <td>0.023086</td>\n",
       "      <td>0.591624</td>\n",
       "      <td>0.000000</td>\n",
       "      <td>0.556157</td>\n",
       "      <td>4</td>\n",
       "    </tr>\n",
       "    <tr>\n",
       "      <th>1</th>\n",
       "      <td>MSC_22044.0</td>\n",
       "      <td>Al Norte</td>\n",
       "      <td>0.551340</td>\n",
       "      <td>0.922305</td>\n",
       "      <td>0.618553</td>\n",
       "      <td>0.063404</td>\n",
       "      <td>0.604311</td>\n",
       "      <td>0.000028</td>\n",
       "      <td>0.000000</td>\n",
       "      <td>0.148456</td>\n",
       "      <td>0.706374</td>\n",
       "      <td>0.666667</td>\n",
       "      <td>1.0</td>\n",
       "      <td>0.016477</td>\n",
       "      <td>0.438420</td>\n",
       "      <td>0.000000</td>\n",
       "      <td>0.331665</td>\n",
       "      <td>4</td>\n",
       "    </tr>\n",
       "    <tr>\n",
       "      <th>2</th>\n",
       "      <td>MSC_62017.0</td>\n",
       "      <td>Yeah! (feat. Lil Jon &amp; Ludacris)</td>\n",
       "      <td>0.820398</td>\n",
       "      <td>0.018311</td>\n",
       "      <td>0.896699</td>\n",
       "      <td>0.080142</td>\n",
       "      <td>0.886655</td>\n",
       "      <td>0.000000</td>\n",
       "      <td>0.454545</td>\n",
       "      <td>0.023844</td>\n",
       "      <td>0.875901</td>\n",
       "      <td>0.333333</td>\n",
       "      <td>0.0</td>\n",
       "      <td>0.098362</td>\n",
       "      <td>0.382038</td>\n",
       "      <td>0.000000</td>\n",
       "      <td>0.590104</td>\n",
       "      <td>5</td>\n",
       "    </tr>\n",
       "    <tr>\n",
       "      <th>3</th>\n",
       "      <td>MSC_76365.0</td>\n",
       "      <td>Can’t You See</td>\n",
       "      <td>0.513879</td>\n",
       "      <td>0.009395</td>\n",
       "      <td>0.547873</td>\n",
       "      <td>0.055475</td>\n",
       "      <td>0.940645</td>\n",
       "      <td>0.000204</td>\n",
       "      <td>0.454545</td>\n",
       "      <td>0.101460</td>\n",
       "      <td>0.890150</td>\n",
       "      <td>0.000000</td>\n",
       "      <td>0.0</td>\n",
       "      <td>0.147079</td>\n",
       "      <td>0.438420</td>\n",
       "      <td>0.333333</td>\n",
       "      <td>0.913441</td>\n",
       "      <td>6</td>\n",
       "    </tr>\n",
       "    <tr>\n",
       "      <th>4</th>\n",
       "      <td>MSC_71493.0</td>\n",
       "      <td>Sonata III (G Moll), BWV 1029: Adagio</td>\n",
       "      <td>0.415576</td>\n",
       "      <td>0.784686</td>\n",
       "      <td>0.214936</td>\n",
       "      <td>0.120262</td>\n",
       "      <td>0.532129</td>\n",
       "      <td>0.002553</td>\n",
       "      <td>0.818182</td>\n",
       "      <td>0.110992</td>\n",
       "      <td>0.449663</td>\n",
       "      <td>0.333333</td>\n",
       "      <td>0.5</td>\n",
       "      <td>0.015648</td>\n",
       "      <td>0.420772</td>\n",
       "      <td>0.000000</td>\n",
       "      <td>0.069094</td>\n",
       "      <td>0</td>\n",
       "    </tr>\n",
       "  </tbody>\n",
       "</table>\n",
       "</div>"
      ],
      "text/plain": [
       "   instance_id                             track_name  popularity  \\\n",
       "0  MSC_83537.0                  Estrellitas y Duendes    0.453203   \n",
       "1  MSC_22044.0                               Al Norte    0.551340   \n",
       "2  MSC_62017.0       Yeah! (feat. Lil Jon & Ludacris)    0.820398   \n",
       "3  MSC_76365.0                          Can’t You See    0.513879   \n",
       "4  MSC_71493.0  Sonata III (G Moll), BWV 1029: Adagio    0.415576   \n",
       "\n",
       "   acousticness  danceability  duration_ms    energy  instrumentalness  \\\n",
       "0      0.886799      0.512382     0.062933  0.569065          0.000000   \n",
       "1      0.922305      0.618553     0.063404  0.604311          0.000028   \n",
       "2      0.018311      0.896699     0.080142  0.886655          0.000000   \n",
       "3      0.009395      0.547873     0.055475  0.940645          0.000204   \n",
       "4      0.784686      0.214936     0.120262  0.532129          0.002553   \n",
       "\n",
       "        key  liveness  loudness  voice_gender  mode  speechiness     tempo  \\\n",
       "0  0.636364  0.122598  0.698132      1.000000   0.0     0.023086  0.591624   \n",
       "1  0.000000  0.148456  0.706374      0.666667   1.0     0.016477  0.438420   \n",
       "2  0.454545  0.023844  0.875901      0.333333   0.0     0.098362  0.382038   \n",
       "3  0.454545  0.101460  0.890150      0.000000   0.0     0.147079  0.438420   \n",
       "4  0.818182  0.110992  0.449663      0.333333   0.5     0.015648  0.420772   \n",
       "\n",
       "   musician_category   valence  music_genre  \n",
       "0           0.000000  0.556157            4  \n",
       "1           0.000000  0.331665            4  \n",
       "2           0.000000  0.590104            5  \n",
       "3           0.333333  0.913441            6  \n",
       "4           0.000000  0.069094            0  "
      ]
     },
     "execution_count": 21,
     "metadata": {},
     "output_type": "execute_result"
    }
   ],
   "source": [
    "train_data.head()"
   ]
  },
  {
   "cell_type": "code",
   "execution_count": 22,
   "id": "2cc00d9a",
   "metadata": {
    "scrolled": true
   },
   "outputs": [
    {
     "data": {
      "text/html": [
       "<div>\n",
       "<style scoped>\n",
       "    .dataframe tbody tr th:only-of-type {\n",
       "        vertical-align: middle;\n",
       "    }\n",
       "\n",
       "    .dataframe tbody tr th {\n",
       "        vertical-align: top;\n",
       "    }\n",
       "\n",
       "    .dataframe thead th {\n",
       "        text-align: right;\n",
       "    }\n",
       "</style>\n",
       "<table border=\"1\" class=\"dataframe\">\n",
       "  <thead>\n",
       "    <tr style=\"text-align: right;\">\n",
       "      <th></th>\n",
       "      <th>instance_id</th>\n",
       "      <th>track_name</th>\n",
       "      <th>popularity</th>\n",
       "      <th>acousticness</th>\n",
       "      <th>danceability</th>\n",
       "      <th>duration_ms</th>\n",
       "      <th>energy</th>\n",
       "      <th>instrumentalness</th>\n",
       "      <th>key</th>\n",
       "      <th>liveness</th>\n",
       "      <th>loudness</th>\n",
       "      <th>voice_gender</th>\n",
       "      <th>mode</th>\n",
       "      <th>speechiness</th>\n",
       "      <th>tempo</th>\n",
       "      <th>musician_category</th>\n",
       "      <th>valence</th>\n",
       "    </tr>\n",
       "  </thead>\n",
       "  <tbody>\n",
       "    <tr>\n",
       "      <th>0</th>\n",
       "      <td>MSC_70753.0</td>\n",
       "      <td>Bard, a Man of Lake-town - Extended Version</td>\n",
       "      <td>0.240536</td>\n",
       "      <td>0.752702</td>\n",
       "      <td>0.051112</td>\n",
       "      <td>0.062006</td>\n",
       "      <td>0.537185</td>\n",
       "      <td>0.876387</td>\n",
       "      <td>0.090909</td>\n",
       "      <td>0.097472</td>\n",
       "      <td>0.476508</td>\n",
       "      <td>0.000000</td>\n",
       "      <td>0.5</td>\n",
       "      <td>0.015154</td>\n",
       "      <td>0.250995</td>\n",
       "      <td>0.333333</td>\n",
       "      <td>0.038291</td>\n",
       "    </tr>\n",
       "    <tr>\n",
       "      <th>1</th>\n",
       "      <td>MSC_24064.0</td>\n",
       "      <td>New Kings</td>\n",
       "      <td>0.611223</td>\n",
       "      <td>0.014108</td>\n",
       "      <td>0.524612</td>\n",
       "      <td>0.073057</td>\n",
       "      <td>0.893045</td>\n",
       "      <td>0.000100</td>\n",
       "      <td>0.636364</td>\n",
       "      <td>0.366501</td>\n",
       "      <td>0.897090</td>\n",
       "      <td>0.666667</td>\n",
       "      <td>1.0</td>\n",
       "      <td>0.028170</td>\n",
       "      <td>0.225192</td>\n",
       "      <td>0.000000</td>\n",
       "      <td>0.423697</td>\n",
       "    </tr>\n",
       "    <tr>\n",
       "      <th>2</th>\n",
       "      <td>MSC_22731.0</td>\n",
       "      <td>Silver Lining</td>\n",
       "      <td>0.662332</td>\n",
       "      <td>0.000918</td>\n",
       "      <td>0.442779</td>\n",
       "      <td>0.063246</td>\n",
       "      <td>0.803434</td>\n",
       "      <td>0.000000</td>\n",
       "      <td>0.272727</td>\n",
       "      <td>0.063849</td>\n",
       "      <td>0.840328</td>\n",
       "      <td>0.333333</td>\n",
       "      <td>0.0</td>\n",
       "      <td>0.010696</td>\n",
       "      <td>0.595246</td>\n",
       "      <td>0.666667</td>\n",
       "      <td>0.179515</td>\n",
       "    </tr>\n",
       "    <tr>\n",
       "      <th>3</th>\n",
       "      <td>MSC_32095.0</td>\n",
       "      <td>A Tale That Wasn't Right</td>\n",
       "      <td>0.517464</td>\n",
       "      <td>0.288419</td>\n",
       "      <td>0.272162</td>\n",
       "      <td>0.090036</td>\n",
       "      <td>0.768027</td>\n",
       "      <td>0.000000</td>\n",
       "      <td>0.000000</td>\n",
       "      <td>0.244439</td>\n",
       "      <td>0.810062</td>\n",
       "      <td>0.333333</td>\n",
       "      <td>0.5</td>\n",
       "      <td>0.013390</td>\n",
       "      <td>0.453001</td>\n",
       "      <td>0.666667</td>\n",
       "      <td>0.199546</td>\n",
       "    </tr>\n",
       "    <tr>\n",
       "      <th>4</th>\n",
       "      <td>MSC_24198.0</td>\n",
       "      <td>Get Ready</td>\n",
       "      <td>0.402601</td>\n",
       "      <td>0.035028</td>\n",
       "      <td>0.704219</td>\n",
       "      <td>0.103450</td>\n",
       "      <td>0.933478</td>\n",
       "      <td>0.000006</td>\n",
       "      <td>0.454545</td>\n",
       "      <td>0.267849</td>\n",
       "      <td>0.880994</td>\n",
       "      <td>0.000000</td>\n",
       "      <td>0.0</td>\n",
       "      <td>0.057169</td>\n",
       "      <td>0.327947</td>\n",
       "      <td>0.333333</td>\n",
       "      <td>0.703220</td>\n",
       "    </tr>\n",
       "  </tbody>\n",
       "</table>\n",
       "</div>"
      ],
      "text/plain": [
       "   instance_id                                   track_name  popularity  \\\n",
       "0  MSC_70753.0  Bard, a Man of Lake-town - Extended Version    0.240536   \n",
       "1  MSC_24064.0                                    New Kings    0.611223   \n",
       "2  MSC_22731.0                                Silver Lining    0.662332   \n",
       "3  MSC_32095.0                     A Tale That Wasn't Right    0.517464   \n",
       "4  MSC_24198.0                                    Get Ready    0.402601   \n",
       "\n",
       "   acousticness  danceability  duration_ms    energy  instrumentalness  \\\n",
       "0      0.752702      0.051112     0.062006  0.537185          0.876387   \n",
       "1      0.014108      0.524612     0.073057  0.893045          0.000100   \n",
       "2      0.000918      0.442779     0.063246  0.803434          0.000000   \n",
       "3      0.288419      0.272162     0.090036  0.768027          0.000000   \n",
       "4      0.035028      0.704219     0.103450  0.933478          0.000006   \n",
       "\n",
       "        key  liveness  loudness  voice_gender  mode  speechiness     tempo  \\\n",
       "0  0.090909  0.097472  0.476508      0.000000   0.5     0.015154  0.250995   \n",
       "1  0.636364  0.366501  0.897090      0.666667   1.0     0.028170  0.225192   \n",
       "2  0.272727  0.063849  0.840328      0.333333   0.0     0.010696  0.595246   \n",
       "3  0.000000  0.244439  0.810062      0.333333   0.5     0.013390  0.453001   \n",
       "4  0.454545  0.267849  0.880994      0.000000   0.0     0.057169  0.327947   \n",
       "\n",
       "   musician_category   valence  \n",
       "0           0.333333  0.038291  \n",
       "1           0.000000  0.423697  \n",
       "2           0.666667  0.179515  \n",
       "3           0.666667  0.199546  \n",
       "4           0.333333  0.703220  "
      ]
     },
     "execution_count": 22,
     "metadata": {},
     "output_type": "execute_result"
    }
   ],
   "source": [
    "test_data.head()"
   ]
  },
  {
   "cell_type": "code",
   "execution_count": 23,
   "id": "f3972bd8",
   "metadata": {},
   "outputs": [
    {
     "name": "stdout",
     "output_type": "stream",
     "text": [
      "Data Preprocessing Time 0.528301477432251\n"
     ]
    }
   ],
   "source": [
    "preproc_end = time.time()\n",
    "print(\"Data Preprocessing Time\", preproc_end - preproc_start)"
   ]
  },
  {
   "cell_type": "markdown",
   "id": "874d9ad9",
   "metadata": {},
   "source": [
    "### 3. Data Visualization"
   ]
  },
  {
   "cell_type": "code",
   "execution_count": 24,
   "id": "59b1d4f0",
   "metadata": {},
   "outputs": [],
   "source": [
    "# 1. Feature Selection by means of Correlation Matrix & HeatMap.\n",
    "# 2. Visualizing the Selected Features V/S Target Variable."
   ]
  },
  {
   "cell_type": "code",
   "execution_count": 25,
   "id": "f48b9598",
   "metadata": {},
   "outputs": [],
   "source": [
    "viz_start = time.time()"
   ]
  },
  {
   "cell_type": "markdown",
   "id": "f6692dfb",
   "metadata": {},
   "source": [
    "#### Correlation Matrix"
   ]
  },
  {
   "cell_type": "code",
   "execution_count": 26,
   "id": "fb218e8d",
   "metadata": {},
   "outputs": [],
   "source": [
    "crm = train_data.corr()"
   ]
  },
  {
   "cell_type": "code",
   "execution_count": 27,
   "id": "6429fbbd",
   "metadata": {},
   "outputs": [
    {
     "data": {
      "text/html": [
       "<div>\n",
       "<style scoped>\n",
       "    .dataframe tbody tr th:only-of-type {\n",
       "        vertical-align: middle;\n",
       "    }\n",
       "\n",
       "    .dataframe tbody tr th {\n",
       "        vertical-align: top;\n",
       "    }\n",
       "\n",
       "    .dataframe thead th {\n",
       "        text-align: right;\n",
       "    }\n",
       "</style>\n",
       "<table border=\"1\" class=\"dataframe\">\n",
       "  <thead>\n",
       "    <tr style=\"text-align: right;\">\n",
       "      <th></th>\n",
       "      <th>popularity</th>\n",
       "      <th>acousticness</th>\n",
       "      <th>danceability</th>\n",
       "      <th>duration_ms</th>\n",
       "      <th>energy</th>\n",
       "      <th>instrumentalness</th>\n",
       "      <th>key</th>\n",
       "      <th>liveness</th>\n",
       "      <th>loudness</th>\n",
       "      <th>voice_gender</th>\n",
       "      <th>mode</th>\n",
       "      <th>speechiness</th>\n",
       "      <th>tempo</th>\n",
       "      <th>musician_category</th>\n",
       "      <th>valence</th>\n",
       "      <th>music_genre</th>\n",
       "    </tr>\n",
       "  </thead>\n",
       "  <tbody>\n",
       "    <tr>\n",
       "      <th>popularity</th>\n",
       "      <td>1.000000</td>\n",
       "      <td>-0.550235</td>\n",
       "      <td>0.432762</td>\n",
       "      <td>-0.152426</td>\n",
       "      <td>0.285955</td>\n",
       "      <td>-0.479226</td>\n",
       "      <td>-0.003570</td>\n",
       "      <td>-0.000503</td>\n",
       "      <td>0.512504</td>\n",
       "      <td>-0.006775</td>\n",
       "      <td>-0.004048</td>\n",
       "      <td>0.193575</td>\n",
       "      <td>0.165182</td>\n",
       "      <td>-0.000797</td>\n",
       "      <td>0.290776</td>\n",
       "      <td>0.695341</td>\n",
       "    </tr>\n",
       "    <tr>\n",
       "      <th>acousticness</th>\n",
       "      <td>-0.550235</td>\n",
       "      <td>1.000000</td>\n",
       "      <td>-0.532573</td>\n",
       "      <td>0.139678</td>\n",
       "      <td>-0.473421</td>\n",
       "      <td>0.525426</td>\n",
       "      <td>0.006788</td>\n",
       "      <td>-0.117700</td>\n",
       "      <td>-0.722909</td>\n",
       "      <td>-0.002237</td>\n",
       "      <td>-0.024087</td>\n",
       "      <td>-0.235678</td>\n",
       "      <td>-0.256874</td>\n",
       "      <td>0.008486</td>\n",
       "      <td>-0.394576</td>\n",
       "      <td>-0.630916</td>\n",
       "    </tr>\n",
       "    <tr>\n",
       "      <th>danceability</th>\n",
       "      <td>0.432762</td>\n",
       "      <td>-0.532573</td>\n",
       "      <td>1.000000</td>\n",
       "      <td>-0.227517</td>\n",
       "      <td>0.269353</td>\n",
       "      <td>-0.419891</td>\n",
       "      <td>-0.006881</td>\n",
       "      <td>0.018296</td>\n",
       "      <td>0.521112</td>\n",
       "      <td>-0.002811</td>\n",
       "      <td>0.047607</td>\n",
       "      <td>0.329316</td>\n",
       "      <td>0.104248</td>\n",
       "      <td>-0.011546</td>\n",
       "      <td>0.536369</td>\n",
       "      <td>0.519646</td>\n",
       "    </tr>\n",
       "    <tr>\n",
       "      <th>duration_ms</th>\n",
       "      <td>-0.152426</td>\n",
       "      <td>0.139678</td>\n",
       "      <td>-0.227517</td>\n",
       "      <td>1.000000</td>\n",
       "      <td>-0.084349</td>\n",
       "      <td>0.179116</td>\n",
       "      <td>-0.011807</td>\n",
       "      <td>-0.015443</td>\n",
       "      <td>-0.145514</td>\n",
       "      <td>-0.001017</td>\n",
       "      <td>-0.000383</td>\n",
       "      <td>-0.108034</td>\n",
       "      <td>-0.060802</td>\n",
       "      <td>-0.014802</td>\n",
       "      <td>-0.189337</td>\n",
       "      <td>-0.178482</td>\n",
       "    </tr>\n",
       "    <tr>\n",
       "      <th>energy</th>\n",
       "      <td>0.285955</td>\n",
       "      <td>-0.473421</td>\n",
       "      <td>0.269353</td>\n",
       "      <td>-0.084349</td>\n",
       "      <td>1.000000</td>\n",
       "      <td>-0.301886</td>\n",
       "      <td>0.005501</td>\n",
       "      <td>0.105306</td>\n",
       "      <td>0.447299</td>\n",
       "      <td>-0.000320</td>\n",
       "      <td>0.012570</td>\n",
       "      <td>0.108477</td>\n",
       "      <td>0.154161</td>\n",
       "      <td>-0.002151</td>\n",
       "      <td>0.291180</td>\n",
       "      <td>0.340192</td>\n",
       "    </tr>\n",
       "    <tr>\n",
       "      <th>instrumentalness</th>\n",
       "      <td>-0.479226</td>\n",
       "      <td>0.525426</td>\n",
       "      <td>-0.419891</td>\n",
       "      <td>0.179116</td>\n",
       "      <td>-0.301886</td>\n",
       "      <td>1.000000</td>\n",
       "      <td>0.008861</td>\n",
       "      <td>-0.143528</td>\n",
       "      <td>-0.553986</td>\n",
       "      <td>0.003758</td>\n",
       "      <td>0.021484</td>\n",
       "      <td>-0.248306</td>\n",
       "      <td>-0.192047</td>\n",
       "      <td>-0.004327</td>\n",
       "      <td>-0.335109</td>\n",
       "      <td>-0.547821</td>\n",
       "    </tr>\n",
       "    <tr>\n",
       "      <th>key</th>\n",
       "      <td>-0.003570</td>\n",
       "      <td>0.006788</td>\n",
       "      <td>-0.006881</td>\n",
       "      <td>-0.011807</td>\n",
       "      <td>0.005501</td>\n",
       "      <td>0.008861</td>\n",
       "      <td>1.000000</td>\n",
       "      <td>0.000566</td>\n",
       "      <td>-0.009171</td>\n",
       "      <td>-0.001637</td>\n",
       "      <td>-0.043733</td>\n",
       "      <td>-0.008538</td>\n",
       "      <td>-0.007952</td>\n",
       "      <td>0.014201</td>\n",
       "      <td>-0.005025</td>\n",
       "      <td>-0.013036</td>\n",
       "    </tr>\n",
       "    <tr>\n",
       "      <th>liveness</th>\n",
       "      <td>-0.000503</td>\n",
       "      <td>-0.117700</td>\n",
       "      <td>0.018296</td>\n",
       "      <td>-0.015443</td>\n",
       "      <td>0.105306</td>\n",
       "      <td>-0.143528</td>\n",
       "      <td>0.000566</td>\n",
       "      <td>1.000000</td>\n",
       "      <td>0.130781</td>\n",
       "      <td>0.003873</td>\n",
       "      <td>-0.009863</td>\n",
       "      <td>0.135582</td>\n",
       "      <td>0.036962</td>\n",
       "      <td>0.021947</td>\n",
       "      <td>0.072154</td>\n",
       "      <td>0.070069</td>\n",
       "    </tr>\n",
       "    <tr>\n",
       "      <th>loudness</th>\n",
       "      <td>0.512504</td>\n",
       "      <td>-0.722909</td>\n",
       "      <td>0.521112</td>\n",
       "      <td>-0.145514</td>\n",
       "      <td>0.447299</td>\n",
       "      <td>-0.553986</td>\n",
       "      <td>-0.009171</td>\n",
       "      <td>0.130781</td>\n",
       "      <td>1.000000</td>\n",
       "      <td>-0.001763</td>\n",
       "      <td>0.012222</td>\n",
       "      <td>0.208841</td>\n",
       "      <td>0.245755</td>\n",
       "      <td>0.000517</td>\n",
       "      <td>0.421219</td>\n",
       "      <td>0.614271</td>\n",
       "    </tr>\n",
       "    <tr>\n",
       "      <th>voice_gender</th>\n",
       "      <td>-0.006775</td>\n",
       "      <td>-0.002237</td>\n",
       "      <td>-0.002811</td>\n",
       "      <td>-0.001017</td>\n",
       "      <td>-0.000320</td>\n",
       "      <td>0.003758</td>\n",
       "      <td>-0.001637</td>\n",
       "      <td>0.003873</td>\n",
       "      <td>-0.001763</td>\n",
       "      <td>1.000000</td>\n",
       "      <td>-0.002418</td>\n",
       "      <td>-0.007898</td>\n",
       "      <td>0.007592</td>\n",
       "      <td>-0.001056</td>\n",
       "      <td>0.001178</td>\n",
       "      <td>-0.007900</td>\n",
       "    </tr>\n",
       "    <tr>\n",
       "      <th>mode</th>\n",
       "      <td>-0.004048</td>\n",
       "      <td>-0.024087</td>\n",
       "      <td>0.047607</td>\n",
       "      <td>-0.000383</td>\n",
       "      <td>0.012570</td>\n",
       "      <td>0.021484</td>\n",
       "      <td>-0.043733</td>\n",
       "      <td>-0.009863</td>\n",
       "      <td>0.012222</td>\n",
       "      <td>-0.002418</td>\n",
       "      <td>1.000000</td>\n",
       "      <td>0.055485</td>\n",
       "      <td>-0.016380</td>\n",
       "      <td>-0.022281</td>\n",
       "      <td>-0.002733</td>\n",
       "      <td>0.005966</td>\n",
       "    </tr>\n",
       "    <tr>\n",
       "      <th>speechiness</th>\n",
       "      <td>0.193575</td>\n",
       "      <td>-0.235678</td>\n",
       "      <td>0.329316</td>\n",
       "      <td>-0.108034</td>\n",
       "      <td>0.108477</td>\n",
       "      <td>-0.248306</td>\n",
       "      <td>-0.008538</td>\n",
       "      <td>0.135582</td>\n",
       "      <td>0.208841</td>\n",
       "      <td>-0.007898</td>\n",
       "      <td>0.055485</td>\n",
       "      <td>1.000000</td>\n",
       "      <td>0.084461</td>\n",
       "      <td>0.011151</td>\n",
       "      <td>0.123199</td>\n",
       "      <td>0.179814</td>\n",
       "    </tr>\n",
       "    <tr>\n",
       "      <th>tempo</th>\n",
       "      <td>0.165182</td>\n",
       "      <td>-0.256874</td>\n",
       "      <td>0.104248</td>\n",
       "      <td>-0.060802</td>\n",
       "      <td>0.154161</td>\n",
       "      <td>-0.192047</td>\n",
       "      <td>-0.007952</td>\n",
       "      <td>0.036962</td>\n",
       "      <td>0.245755</td>\n",
       "      <td>0.007592</td>\n",
       "      <td>-0.016380</td>\n",
       "      <td>0.084461</td>\n",
       "      <td>1.000000</td>\n",
       "      <td>-0.014556</td>\n",
       "      <td>0.157195</td>\n",
       "      <td>0.186223</td>\n",
       "    </tr>\n",
       "    <tr>\n",
       "      <th>musician_category</th>\n",
       "      <td>-0.000797</td>\n",
       "      <td>0.008486</td>\n",
       "      <td>-0.011546</td>\n",
       "      <td>-0.014802</td>\n",
       "      <td>-0.002151</td>\n",
       "      <td>-0.004327</td>\n",
       "      <td>0.014201</td>\n",
       "      <td>0.021947</td>\n",
       "      <td>0.000517</td>\n",
       "      <td>-0.001056</td>\n",
       "      <td>-0.022281</td>\n",
       "      <td>0.011151</td>\n",
       "      <td>-0.014556</td>\n",
       "      <td>1.000000</td>\n",
       "      <td>-0.003024</td>\n",
       "      <td>0.000939</td>\n",
       "    </tr>\n",
       "    <tr>\n",
       "      <th>valence</th>\n",
       "      <td>0.290776</td>\n",
       "      <td>-0.394576</td>\n",
       "      <td>0.536369</td>\n",
       "      <td>-0.189337</td>\n",
       "      <td>0.291180</td>\n",
       "      <td>-0.335109</td>\n",
       "      <td>-0.005025</td>\n",
       "      <td>0.072154</td>\n",
       "      <td>0.421219</td>\n",
       "      <td>0.001178</td>\n",
       "      <td>-0.002733</td>\n",
       "      <td>0.123199</td>\n",
       "      <td>0.157195</td>\n",
       "      <td>-0.003024</td>\n",
       "      <td>1.000000</td>\n",
       "      <td>0.422028</td>\n",
       "    </tr>\n",
       "    <tr>\n",
       "      <th>music_genre</th>\n",
       "      <td>0.695341</td>\n",
       "      <td>-0.630916</td>\n",
       "      <td>0.519646</td>\n",
       "      <td>-0.178482</td>\n",
       "      <td>0.340192</td>\n",
       "      <td>-0.547821</td>\n",
       "      <td>-0.013036</td>\n",
       "      <td>0.070069</td>\n",
       "      <td>0.614271</td>\n",
       "      <td>-0.007900</td>\n",
       "      <td>0.005966</td>\n",
       "      <td>0.179814</td>\n",
       "      <td>0.186223</td>\n",
       "      <td>0.000939</td>\n",
       "      <td>0.422028</td>\n",
       "      <td>1.000000</td>\n",
       "    </tr>\n",
       "  </tbody>\n",
       "</table>\n",
       "</div>"
      ],
      "text/plain": [
       "                   popularity  acousticness  danceability  duration_ms  \\\n",
       "popularity           1.000000     -0.550235      0.432762    -0.152426   \n",
       "acousticness        -0.550235      1.000000     -0.532573     0.139678   \n",
       "danceability         0.432762     -0.532573      1.000000    -0.227517   \n",
       "duration_ms         -0.152426      0.139678     -0.227517     1.000000   \n",
       "energy               0.285955     -0.473421      0.269353    -0.084349   \n",
       "instrumentalness    -0.479226      0.525426     -0.419891     0.179116   \n",
       "key                 -0.003570      0.006788     -0.006881    -0.011807   \n",
       "liveness            -0.000503     -0.117700      0.018296    -0.015443   \n",
       "loudness             0.512504     -0.722909      0.521112    -0.145514   \n",
       "voice_gender        -0.006775     -0.002237     -0.002811    -0.001017   \n",
       "mode                -0.004048     -0.024087      0.047607    -0.000383   \n",
       "speechiness          0.193575     -0.235678      0.329316    -0.108034   \n",
       "tempo                0.165182     -0.256874      0.104248    -0.060802   \n",
       "musician_category   -0.000797      0.008486     -0.011546    -0.014802   \n",
       "valence              0.290776     -0.394576      0.536369    -0.189337   \n",
       "music_genre          0.695341     -0.630916      0.519646    -0.178482   \n",
       "\n",
       "                     energy  instrumentalness       key  liveness  loudness  \\\n",
       "popularity         0.285955         -0.479226 -0.003570 -0.000503  0.512504   \n",
       "acousticness      -0.473421          0.525426  0.006788 -0.117700 -0.722909   \n",
       "danceability       0.269353         -0.419891 -0.006881  0.018296  0.521112   \n",
       "duration_ms       -0.084349          0.179116 -0.011807 -0.015443 -0.145514   \n",
       "energy             1.000000         -0.301886  0.005501  0.105306  0.447299   \n",
       "instrumentalness  -0.301886          1.000000  0.008861 -0.143528 -0.553986   \n",
       "key                0.005501          0.008861  1.000000  0.000566 -0.009171   \n",
       "liveness           0.105306         -0.143528  0.000566  1.000000  0.130781   \n",
       "loudness           0.447299         -0.553986 -0.009171  0.130781  1.000000   \n",
       "voice_gender      -0.000320          0.003758 -0.001637  0.003873 -0.001763   \n",
       "mode               0.012570          0.021484 -0.043733 -0.009863  0.012222   \n",
       "speechiness        0.108477         -0.248306 -0.008538  0.135582  0.208841   \n",
       "tempo              0.154161         -0.192047 -0.007952  0.036962  0.245755   \n",
       "musician_category -0.002151         -0.004327  0.014201  0.021947  0.000517   \n",
       "valence            0.291180         -0.335109 -0.005025  0.072154  0.421219   \n",
       "music_genre        0.340192         -0.547821 -0.013036  0.070069  0.614271   \n",
       "\n",
       "                   voice_gender      mode  speechiness     tempo  \\\n",
       "popularity            -0.006775 -0.004048     0.193575  0.165182   \n",
       "acousticness          -0.002237 -0.024087    -0.235678 -0.256874   \n",
       "danceability          -0.002811  0.047607     0.329316  0.104248   \n",
       "duration_ms           -0.001017 -0.000383    -0.108034 -0.060802   \n",
       "energy                -0.000320  0.012570     0.108477  0.154161   \n",
       "instrumentalness       0.003758  0.021484    -0.248306 -0.192047   \n",
       "key                   -0.001637 -0.043733    -0.008538 -0.007952   \n",
       "liveness               0.003873 -0.009863     0.135582  0.036962   \n",
       "loudness              -0.001763  0.012222     0.208841  0.245755   \n",
       "voice_gender           1.000000 -0.002418    -0.007898  0.007592   \n",
       "mode                  -0.002418  1.000000     0.055485 -0.016380   \n",
       "speechiness           -0.007898  0.055485     1.000000  0.084461   \n",
       "tempo                  0.007592 -0.016380     0.084461  1.000000   \n",
       "musician_category     -0.001056 -0.022281     0.011151 -0.014556   \n",
       "valence                0.001178 -0.002733     0.123199  0.157195   \n",
       "music_genre           -0.007900  0.005966     0.179814  0.186223   \n",
       "\n",
       "                   musician_category   valence  music_genre  \n",
       "popularity                 -0.000797  0.290776     0.695341  \n",
       "acousticness                0.008486 -0.394576    -0.630916  \n",
       "danceability               -0.011546  0.536369     0.519646  \n",
       "duration_ms                -0.014802 -0.189337    -0.178482  \n",
       "energy                     -0.002151  0.291180     0.340192  \n",
       "instrumentalness           -0.004327 -0.335109    -0.547821  \n",
       "key                         0.014201 -0.005025    -0.013036  \n",
       "liveness                    0.021947  0.072154     0.070069  \n",
       "loudness                    0.000517  0.421219     0.614271  \n",
       "voice_gender               -0.001056  0.001178    -0.007900  \n",
       "mode                       -0.022281 -0.002733     0.005966  \n",
       "speechiness                 0.011151  0.123199     0.179814  \n",
       "tempo                      -0.014556  0.157195     0.186223  \n",
       "musician_category           1.000000 -0.003024     0.000939  \n",
       "valence                    -0.003024  1.000000     0.422028  \n",
       "music_genre                 0.000939  0.422028     1.000000  "
      ]
     },
     "execution_count": 27,
     "metadata": {},
     "output_type": "execute_result"
    }
   ],
   "source": [
    "crm"
   ]
  },
  {
   "cell_type": "code",
   "execution_count": 28,
   "id": "e3e9e422",
   "metadata": {
    "scrolled": false
   },
   "outputs": [
    {
     "data": {
      "text/plain": [
       "<AxesSubplot:>"
      ]
     },
     "execution_count": 28,
     "metadata": {},
     "output_type": "execute_result"
    },
    {
     "data": {
      "image/png": "[encoded data removed]",
      "text/plain": [
       "<Figure size 432x288 with 2 Axes>"
      ]
     },
     "metadata": {
      "needs_background": "light"
     },
     "output_type": "display_data"
    }
   ],
   "source": [
    "sns.heatmap(data = train_data.corr())"
   ]
  },
  {
   "cell_type": "code",
   "execution_count": 29,
   "id": "164f5b86",
   "metadata": {},
   "outputs": [],
   "source": [
    "# From the Heatmap & Correlation Matrix, we find the important features which effect the Music_Genre\n",
    "\n",
    "# Having Correlation of greater than 0.05 or less than -0.05\n",
    "# Features are: -\n",
    "# 1. popularity\n",
    "# 2. acousticness\n",
    "# 3. danceability\n",
    "# 4. duration_ms\n",
    "# 5. energy\n",
    "# 6. instrumentalness\n",
    "# 7. loudness\n",
    "# 8. speechiness\n",
    "# 9. tempo\n",
    "# 10. valence\n",
    "# 11. liveness"
   ]
  },
  {
   "cell_type": "code",
   "execution_count": 30,
   "id": "5cf0b249",
   "metadata": {},
   "outputs": [],
   "source": [
    "features = (crm[((crm['music_genre'] > 0.05) | (crm['music_genre'] < -0.05))].index).values"
   ]
  },
  {
   "cell_type": "code",
   "execution_count": 31,
   "id": "15f6dd0b",
   "metadata": {},
   "outputs": [
    {
     "data": {
      "text/plain": [
       "array(['popularity', 'acousticness', 'danceability', 'duration_ms',\n",
       "       'energy', 'instrumentalness', 'liveness', 'loudness',\n",
       "       'speechiness', 'tempo', 'valence', 'music_genre'], dtype=object)"
      ]
     },
     "execution_count": 31,
     "metadata": {},
     "output_type": "execute_result"
    }
   ],
   "source": [
    "features"
   ]
  },
  {
   "cell_type": "code",
   "execution_count": 32,
   "id": "ee8a0d49",
   "metadata": {},
   "outputs": [],
   "source": [
    "features = np.delete(features, -1)"
   ]
  },
  {
   "cell_type": "code",
   "execution_count": 33,
   "id": "8c91b5d3",
   "metadata": {},
   "outputs": [
    {
     "data": {
      "text/plain": [
       "array(['popularity', 'acousticness', 'danceability', 'duration_ms',\n",
       "       'energy', 'instrumentalness', 'liveness', 'loudness',\n",
       "       'speechiness', 'tempo', 'valence'], dtype=object)"
      ]
     },
     "execution_count": 33,
     "metadata": {},
     "output_type": "execute_result"
    }
   ],
   "source": [
    "features"
   ]
  },
  {
   "cell_type": "code",
   "execution_count": 34,
   "id": "d6b8eb8b",
   "metadata": {
    "scrolled": true
   },
   "outputs": [
    {
     "data": {
      "text/plain": [
       "<AxesSubplot:xlabel='music_genre', ylabel='count'>"
      ]
     },
     "execution_count": 34,
     "metadata": {},
     "output_type": "execute_result"
    },
    {
     "data": {
      "image/png": "[encoded data removed]",
      "text/plain": [
       "<Figure size 432x288 with 1 Axes>"
      ]
     },
     "metadata": {
      "needs_background": "light"
     },
     "output_type": "display_data"
    }
   ],
   "source": [
    "sns.countplot(x = 'music_genre', data = train_data)"
   ]
  },
  {
   "cell_type": "code",
   "execution_count": 35,
   "id": "f43ae592",
   "metadata": {},
   "outputs": [
    {
     "data": {
      "image/png": "[encoded data removed]",
      "text/plain": [
       "<Figure size 1440x7920 with 22 Axes>"
      ]
     },
     "metadata": {
      "needs_background": "light"
     },
     "output_type": "display_data"
    }
   ],
   "source": [
    "fig, axes = plt.subplots(np.size(features), 2, figsize = (20, 10 * np.size(features)))\n",
    "for i, f in enumerate(features):\n",
    "    sns.scatterplot(x = 'music_genre', y = f, data = train_data, ax = axes[i, 0])\n",
    "    sns.boxplot(x = 'music_genre', y = f, data = train_data, ax = axes[i, 1])\n"
   ]
  },
  {
   "cell_type": "code",
   "execution_count": 36,
   "id": "16f1c2f9",
   "metadata": {},
   "outputs": [
    {
     "name": "stdout",
     "output_type": "stream",
     "text": [
      "Data Visualization Time 4.3304126262664795\n"
     ]
    }
   ],
   "source": [
    "viz_end = time.time()\n",
    "print(\"Data Visualization Time\", viz_end - viz_start)"
   ]
  },
  {
   "cell_type": "markdown",
   "id": "e71a4dfd",
   "metadata": {},
   "source": [
    "### 4. Training Set and Validation Set"
   ]
  },
  {
   "cell_type": "code",
   "execution_count": 37,
   "id": "15206e4b",
   "metadata": {},
   "outputs": [],
   "source": [
    "from sklearn.model_selection import train_test_split\n",
    "\n",
    "X_train, X_val, y_train, y_val = train_test_split(train_data[features], train_data['music_genre'], test_size = 0.25, random_state = 11)"
   ]
  },
  {
   "cell_type": "code",
   "execution_count": 38,
   "id": "1741b356",
   "metadata": {},
   "outputs": [
    {
     "data": {
      "text/plain": [
       "((11760, 11), (11760,))"
      ]
     },
     "execution_count": 38,
     "metadata": {},
     "output_type": "execute_result"
    }
   ],
   "source": [
    "X_train.shape, y_train.shape"
   ]
  },
  {
   "cell_type": "code",
   "execution_count": 39,
   "id": "c53559dd",
   "metadata": {
    "scrolled": true
   },
   "outputs": [
    {
     "data": {
      "text/plain": [
       "((3921, 11), (3921,))"
      ]
     },
     "execution_count": 39,
     "metadata": {},
     "output_type": "execute_result"
    }
   ],
   "source": [
    "X_val.shape, y_val.shape"
   ]
  },
  {
   "cell_type": "code",
   "execution_count": 40,
   "id": "879c5f76",
   "metadata": {},
   "outputs": [
    {
     "data": {
      "text/plain": [
       "(3921, 11)"
      ]
     },
     "execution_count": 40,
     "metadata": {},
     "output_type": "execute_result"
    }
   ],
   "source": [
    "X_test = test_data[features]\n",
    "X_test.shape"
   ]
  },
  {
   "cell_type": "code",
   "execution_count": null,
   "id": "3a9c6d39",
   "metadata": {},
   "outputs": [],
   "source": []
  },
  {
   "cell_type": "markdown",
   "id": "d26b92c5",
   "metadata": {},
   "source": [
    "### 5. Logistic Regression"
   ]
  },
  {
   "cell_type": "code",
   "execution_count": 41,
   "id": "b7ce91a5",
   "metadata": {},
   "outputs": [],
   "source": [
    "from sklearn.linear_model import LogisticRegression\n",
    "\n",
    "lr = LogisticRegression(penalty = 'l2', C = 1.0, solver = 'lbfgs', max_iter = 300)"
   ]
  },
  {
   "cell_type": "code",
   "execution_count": 42,
   "id": "d2c02170",
   "metadata": {},
   "outputs": [
    {
     "data": {
      "text/plain": [
       "LogisticRegression(max_iter=300)"
      ]
     },
     "execution_count": 42,
     "metadata": {},
     "output_type": "execute_result"
    }
   ],
   "source": [
    "lr.fit(X_train, y_train)"
   ]
  },
  {
   "cell_type": "code",
   "execution_count": 43,
   "id": "4bf2de34",
   "metadata": {},
   "outputs": [
    {
     "name": "stdout",
     "output_type": "stream",
     "text": [
      "Training Score 0.7323129251700681\n",
      "Validation Score 0.7452180566182096\n"
     ]
    }
   ],
   "source": [
    "print(\"Training Score\", lr.score(X_train, y_train))\n",
    "print(\"Validation Score\", lr.score(X_val, y_val))"
   ]
  },
  {
   "cell_type": "code",
   "execution_count": 44,
   "id": "006d2dd2",
   "metadata": {},
   "outputs": [],
   "source": [
    "hyper_params_lr = pd.read_excel(\"./LR Hyper Params Tuning.xlsx\")"
   ]
  },
  {
   "cell_type": "code",
   "execution_count": 45,
   "id": "29c2463f",
   "metadata": {},
   "outputs": [
    {
     "data": {
      "text/html": [
       "<div>\n",
       "<style scoped>\n",
       "    .dataframe tbody tr th:only-of-type {\n",
       "        vertical-align: middle;\n",
       "    }\n",
       "\n",
       "    .dataframe tbody tr th {\n",
       "        vertical-align: top;\n",
       "    }\n",
       "\n",
       "    .dataframe thead th {\n",
       "        text-align: right;\n",
       "    }\n",
       "</style>\n",
       "<table border=\"1\" class=\"dataframe\">\n",
       "  <thead>\n",
       "    <tr style=\"text-align: right;\">\n",
       "      <th></th>\n",
       "      <th>Penalty</th>\n",
       "      <th>C</th>\n",
       "      <th>Solver</th>\n",
       "      <th>L1_Ratio</th>\n",
       "    </tr>\n",
       "  </thead>\n",
       "  <tbody>\n",
       "    <tr>\n",
       "      <th>0</th>\n",
       "      <td>none</td>\n",
       "      <td>1.00</td>\n",
       "      <td>newton-cg</td>\n",
       "      <td>None</td>\n",
       "    </tr>\n",
       "    <tr>\n",
       "      <th>1</th>\n",
       "      <td>l2</td>\n",
       "      <td>0.25</td>\n",
       "      <td>newton-cg</td>\n",
       "      <td>None</td>\n",
       "    </tr>\n",
       "    <tr>\n",
       "      <th>2</th>\n",
       "      <td>l2</td>\n",
       "      <td>1.00</td>\n",
       "      <td>newton-cg</td>\n",
       "      <td>None</td>\n",
       "    </tr>\n",
       "    <tr>\n",
       "      <th>3</th>\n",
       "      <td>l2</td>\n",
       "      <td>16.00</td>\n",
       "      <td>newton-cg</td>\n",
       "      <td>None</td>\n",
       "    </tr>\n",
       "    <tr>\n",
       "      <th>4</th>\n",
       "      <td>none</td>\n",
       "      <td>1.00</td>\n",
       "      <td>lbfgs</td>\n",
       "      <td>None</td>\n",
       "    </tr>\n",
       "  </tbody>\n",
       "</table>\n",
       "</div>"
      ],
      "text/plain": [
       "  Penalty      C     Solver L1_Ratio\n",
       "0    none   1.00  newton-cg     None\n",
       "1      l2   0.25  newton-cg     None\n",
       "2      l2   1.00  newton-cg     None\n",
       "3      l2  16.00  newton-cg     None\n",
       "4    none   1.00      lbfgs     None"
      ]
     },
     "execution_count": 45,
     "metadata": {},
     "output_type": "execute_result"
    }
   ],
   "source": [
    "hyper_params_lr.head()"
   ]
  },
  {
   "cell_type": "code",
   "execution_count": 46,
   "id": "5b4d573d",
   "metadata": {},
   "outputs": [],
   "source": [
    "lr_start = time.time()"
   ]
  },
  {
   "cell_type": "code",
   "execution_count": 47,
   "id": "b65fae38",
   "metadata": {
    "scrolled": false
   },
   "outputs": [
    {
     "name": "stderr",
     "output_type": "stream",
     "text": [
      "C:\\Users\\805313\\Anaconda3\\lib\\site-packages\\sklearn\\linear_model\\_logistic.py:1319: UserWarning: l1_ratio parameter is only used when penalty is 'elasticnet'. Got (penalty=none)\n",
      "  \"(penalty={})\".format(self.penalty))\n",
      "C:\\Users\\805313\\Anaconda3\\lib\\site-packages\\sklearn\\linear_model\\_logistic.py:1319: UserWarning: l1_ratio parameter is only used when penalty is 'elasticnet'. Got (penalty=l2)\n",
      "  \"(penalty={})\".format(self.penalty))\n",
      "C:\\Users\\805313\\Anaconda3\\lib\\site-packages\\sklearn\\linear_model\\_logistic.py:1319: UserWarning: l1_ratio parameter is only used when penalty is 'elasticnet'. Got (penalty=l2)\n",
      "  \"(penalty={})\".format(self.penalty))\n",
      "C:\\Users\\805313\\Anaconda3\\lib\\site-packages\\sklearn\\linear_model\\_logistic.py:1319: UserWarning: l1_ratio parameter is only used when penalty is 'elasticnet'. Got (penalty=l2)\n",
      "  \"(penalty={})\".format(self.penalty))\n",
      "C:\\Users\\805313\\Anaconda3\\lib\\site-packages\\sklearn\\linear_model\\_logistic.py:1319: UserWarning: l1_ratio parameter is only used when penalty is 'elasticnet'. Got (penalty=none)\n",
      "  \"(penalty={})\".format(self.penalty))\n",
      "C:\\Users\\805313\\Anaconda3\\lib\\site-packages\\sklearn\\linear_model\\_logistic.py:1319: UserWarning: l1_ratio parameter is only used when penalty is 'elasticnet'. Got (penalty=l2)\n",
      "  \"(penalty={})\".format(self.penalty))\n",
      "C:\\Users\\805313\\Anaconda3\\lib\\site-packages\\sklearn\\linear_model\\_logistic.py:1319: UserWarning: l1_ratio parameter is only used when penalty is 'elasticnet'. Got (penalty=l2)\n",
      "  \"(penalty={})\".format(self.penalty))\n",
      "C:\\Users\\805313\\Anaconda3\\lib\\site-packages\\sklearn\\linear_model\\_logistic.py:1319: UserWarning: l1_ratio parameter is only used when penalty is 'elasticnet'. Got (penalty=l2)\n",
      "  \"(penalty={})\".format(self.penalty))\n",
      "C:\\Users\\805313\\Anaconda3\\lib\\site-packages\\sklearn\\linear_model\\_logistic.py:1319: UserWarning: l1_ratio parameter is only used when penalty is 'elasticnet'. Got (penalty=l1)\n",
      "  \"(penalty={})\".format(self.penalty))\n",
      "C:\\Users\\805313\\Anaconda3\\lib\\site-packages\\sklearn\\linear_model\\_logistic.py:1319: UserWarning: l1_ratio parameter is only used when penalty is 'elasticnet'. Got (penalty=l1)\n",
      "  \"(penalty={})\".format(self.penalty))\n",
      "C:\\Users\\805313\\Anaconda3\\lib\\site-packages\\sklearn\\linear_model\\_logistic.py:1319: UserWarning: l1_ratio parameter is only used when penalty is 'elasticnet'. Got (penalty=l1)\n",
      "  \"(penalty={})\".format(self.penalty))\n",
      "C:\\Users\\805313\\Anaconda3\\lib\\site-packages\\sklearn\\linear_model\\_logistic.py:1319: UserWarning: l1_ratio parameter is only used when penalty is 'elasticnet'. Got (penalty=l2)\n",
      "  \"(penalty={})\".format(self.penalty))\n",
      "C:\\Users\\805313\\Anaconda3\\lib\\site-packages\\sklearn\\linear_model\\_logistic.py:1319: UserWarning: l1_ratio parameter is only used when penalty is 'elasticnet'. Got (penalty=l2)\n",
      "  \"(penalty={})\".format(self.penalty))\n",
      "C:\\Users\\805313\\Anaconda3\\lib\\site-packages\\sklearn\\linear_model\\_logistic.py:1319: UserWarning: l1_ratio parameter is only used when penalty is 'elasticnet'. Got (penalty=l2)\n",
      "  \"(penalty={})\".format(self.penalty))\n",
      "C:\\Users\\805313\\Anaconda3\\lib\\site-packages\\sklearn\\linear_model\\_logistic.py:1319: UserWarning: l1_ratio parameter is only used when penalty is 'elasticnet'. Got (penalty=none)\n",
      "  \"(penalty={})\".format(self.penalty))\n",
      "C:\\Users\\805313\\Anaconda3\\lib\\site-packages\\sklearn\\linear_model\\_logistic.py:1319: UserWarning: l1_ratio parameter is only used when penalty is 'elasticnet'. Got (penalty=l2)\n",
      "  \"(penalty={})\".format(self.penalty))\n",
      "C:\\Users\\805313\\Anaconda3\\lib\\site-packages\\sklearn\\linear_model\\_logistic.py:1319: UserWarning: l1_ratio parameter is only used when penalty is 'elasticnet'. Got (penalty=l2)\n",
      "  \"(penalty={})\".format(self.penalty))\n",
      "C:\\Users\\805313\\Anaconda3\\lib\\site-packages\\sklearn\\linear_model\\_logistic.py:1319: UserWarning: l1_ratio parameter is only used when penalty is 'elasticnet'. Got (penalty=l2)\n",
      "  \"(penalty={})\".format(self.penalty))\n",
      "C:\\Users\\805313\\Anaconda3\\lib\\site-packages\\sklearn\\linear_model\\_logistic.py:1319: UserWarning: l1_ratio parameter is only used when penalty is 'elasticnet'. Got (penalty=l1)\n",
      "  \"(penalty={})\".format(self.penalty))\n",
      "C:\\Users\\805313\\Anaconda3\\lib\\site-packages\\sklearn\\linear_model\\_logistic.py:1319: UserWarning: l1_ratio parameter is only used when penalty is 'elasticnet'. Got (penalty=l1)\n",
      "  \"(penalty={})\".format(self.penalty))\n",
      "C:\\Users\\805313\\Anaconda3\\lib\\site-packages\\sklearn\\linear_model\\_logistic.py:1319: UserWarning: l1_ratio parameter is only used when penalty is 'elasticnet'. Got (penalty=l1)\n",
      "  \"(penalty={})\".format(self.penalty))\n",
      "C:\\Users\\805313\\Anaconda3\\lib\\site-packages\\sklearn\\linear_model\\_sag.py:329: ConvergenceWarning: The max_iter was reached which means the coef_ did not converge\n",
      "  \"the coef_ did not converge\", ConvergenceWarning)\n",
      "C:\\Users\\805313\\Anaconda3\\lib\\site-packages\\sklearn\\linear_model\\_logistic.py:1319: UserWarning: l1_ratio parameter is only used when penalty is 'elasticnet'. Got (penalty=l2)\n",
      "  \"(penalty={})\".format(self.penalty))\n",
      "C:\\Users\\805313\\Anaconda3\\lib\\site-packages\\sklearn\\linear_model\\_logistic.py:1319: UserWarning: l1_ratio parameter is only used when penalty is 'elasticnet'. Got (penalty=l2)\n",
      "  \"(penalty={})\".format(self.penalty))\n",
      "C:\\Users\\805313\\Anaconda3\\lib\\site-packages\\sklearn\\linear_model\\_logistic.py:1319: UserWarning: l1_ratio parameter is only used when penalty is 'elasticnet'. Got (penalty=l2)\n",
      "  \"(penalty={})\".format(self.penalty))\n",
      "C:\\Users\\805313\\Anaconda3\\lib\\site-packages\\sklearn\\linear_model\\_logistic.py:1319: UserWarning: l1_ratio parameter is only used when penalty is 'elasticnet'. Got (penalty=none)\n",
      "  \"(penalty={})\".format(self.penalty))\n"
     ]
    }
   ],
   "source": [
    "training_score = []\n",
    "validation_score = []\n",
    "for i, row in hyper_params_lr.iterrows():\n",
    "    lr = LogisticRegression(penalty = f\"{row['Penalty']}\", C = row['C'], solver = f\"{row['Solver']}\", l1_ratio = row['L1_Ratio'], max_iter = 500)\n",
    "    lr.fit(X_train, y_train)\n",
    "    training_score.append(lr.score(X_train, y_train))\n",
    "    validation_score.append(lr.score(X_val, y_val))"
   ]
  },
  {
   "cell_type": "code",
   "execution_count": 48,
   "id": "507a68ca",
   "metadata": {},
   "outputs": [
    {
     "name": "stdout",
     "output_type": "stream",
     "text": [
      "Logistic Regression Best Model Searching Time 29.732465267181396\n"
     ]
    }
   ],
   "source": [
    "lr_end = time.time()\n",
    "print(\"Logistic Regression Best Model Searching Time\", lr_end - lr_start)"
   ]
  },
  {
   "cell_type": "code",
   "execution_count": 49,
   "id": "5a0c74b8",
   "metadata": {},
   "outputs": [],
   "source": [
    "hyper_params_lr['Training_Score'] = np.array(training_score)\n",
    "hyper_params_lr['Validation_Score'] = np.array(validation_score)"
   ]
  },
  {
   "cell_type": "code",
   "execution_count": 50,
   "id": "850da952",
   "metadata": {
    "scrolled": false
   },
   "outputs": [],
   "source": [
    "lr_best_params = hyper_params_lr[(hyper_params_lr['Validation_Score'] == hyper_params_lr.Validation_Score.max())]"
   ]
  },
  {
   "cell_type": "code",
   "execution_count": 51,
   "id": "a9cbc1d5",
   "metadata": {},
   "outputs": [
    {
     "data": {
      "text/html": [
       "<div>\n",
       "<style scoped>\n",
       "    .dataframe tbody tr th:only-of-type {\n",
       "        vertical-align: middle;\n",
       "    }\n",
       "\n",
       "    .dataframe tbody tr th {\n",
       "        vertical-align: top;\n",
       "    }\n",
       "\n",
       "    .dataframe thead th {\n",
       "        text-align: right;\n",
       "    }\n",
       "</style>\n",
       "<table border=\"1\" class=\"dataframe\">\n",
       "  <thead>\n",
       "    <tr style=\"text-align: right;\">\n",
       "      <th></th>\n",
       "      <th>Penalty</th>\n",
       "      <th>C</th>\n",
       "      <th>Solver</th>\n",
       "      <th>L1_Ratio</th>\n",
       "      <th>Training_Score</th>\n",
       "      <th>Validation_Score</th>\n",
       "    </tr>\n",
       "  </thead>\n",
       "  <tbody>\n",
       "    <tr>\n",
       "      <th>28</th>\n",
       "      <td>l1</td>\n",
       "      <td>1.0</td>\n",
       "      <td>saga</td>\n",
       "      <td>None</td>\n",
       "      <td>0.736905</td>\n",
       "      <td>0.75593</td>\n",
       "    </tr>\n",
       "  </tbody>\n",
       "</table>\n",
       "</div>"
      ],
      "text/plain": [
       "   Penalty    C Solver L1_Ratio  Training_Score  Validation_Score\n",
       "28      l1  1.0   saga     None        0.736905           0.75593"
      ]
     },
     "execution_count": 51,
     "metadata": {},
     "output_type": "execute_result"
    }
   ],
   "source": [
    "lr_best_params"
   ]
  },
  {
   "cell_type": "code",
   "execution_count": 52,
   "id": "c3745f2d",
   "metadata": {},
   "outputs": [],
   "source": [
    "lr_best_model = LogisticRegression(penalty = lr_best_params['Penalty'].values[0], C = lr_best_params['C'].values[0], \n",
    "                                   solver = lr_best_params['Solver'].values[0], max_iter = 500,\n",
    "                                   l1_ratio = lr_best_params['L1_Ratio'].values[0])"
   ]
  },
  {
   "cell_type": "code",
   "execution_count": 53,
   "id": "a66aca09",
   "metadata": {},
   "outputs": [
    {
     "name": "stderr",
     "output_type": "stream",
     "text": [
      "C:\\Users\\805313\\Anaconda3\\lib\\site-packages\\sklearn\\linear_model\\_logistic.py:1319: UserWarning: l1_ratio parameter is only used when penalty is 'elasticnet'. Got (penalty=l1)\n",
      "  \"(penalty={})\".format(self.penalty))\n"
     ]
    },
    {
     "data": {
      "text/plain": [
       "LogisticRegression(l1_ratio='None', max_iter=500, penalty='l1', solver='saga')"
      ]
     },
     "execution_count": 53,
     "metadata": {},
     "output_type": "execute_result"
    }
   ],
   "source": [
    "lr_best_model.fit(X_train, y_train)"
   ]
  },
  {
   "cell_type": "code",
   "execution_count": 54,
   "id": "ae682d66",
   "metadata": {},
   "outputs": [
    {
     "data": {
      "text/plain": [
       "0.75592960979342"
      ]
     },
     "execution_count": 54,
     "metadata": {},
     "output_type": "execute_result"
    }
   ],
   "source": [
    "lr_best_model.score(X_val, y_val)"
   ]
  },
  {
   "cell_type": "code",
   "execution_count": 55,
   "id": "3a2b6e9e",
   "metadata": {},
   "outputs": [],
   "source": [
    "lr_f1_score = metrics.f1_score(y_val, lr_best_model.predict(X_val), average = 'macro')"
   ]
  },
  {
   "cell_type": "code",
   "execution_count": 56,
   "id": "24efc5a2",
   "metadata": {},
   "outputs": [
    {
     "data": {
      "text/plain": [
       "0.5499414535383998"
      ]
     },
     "execution_count": 56,
     "metadata": {},
     "output_type": "execute_result"
    }
   ],
   "source": [
    "lr_f1_score"
   ]
  },
  {
   "cell_type": "markdown",
   "id": "9e0546c6",
   "metadata": {},
   "source": [
    "### 6. Naive Bayes Classifier"
   ]
  },
  {
   "cell_type": "code",
   "execution_count": 57,
   "id": "85a8f690",
   "metadata": {},
   "outputs": [],
   "source": [
    "from sklearn.naive_bayes import GaussianNB, MultinomialNB, BernoulliNB\n",
    "\n",
    "mnb = MultinomialNB(alpha = 0.25)\n",
    "gnb = GaussianNB()\n",
    "bnb = BernoulliNB(alpha = 100)"
   ]
  },
  {
   "cell_type": "code",
   "execution_count": 58,
   "id": "993edd6e",
   "metadata": {},
   "outputs": [
    {
     "name": "stdout",
     "output_type": "stream",
     "text": [
      "Gaussian Naive Bayes\n",
      "Training Score 0.6634353741496599\n",
      "Validation Score 0.6801836266258607\n"
     ]
    }
   ],
   "source": [
    "print(\"Gaussian Naive Bayes\")\n",
    "\n",
    "gnb.fit(X_train, y_train)\n",
    "print(\"Training Score\", gnb.score(X_train, y_train))\n",
    "print(\"Validation Score\", gnb.score(X_val, y_val))"
   ]
  },
  {
   "cell_type": "code",
   "execution_count": 59,
   "id": "e137d784",
   "metadata": {},
   "outputs": [
    {
     "name": "stdout",
     "output_type": "stream",
     "text": [
      "Multinomial Naive Bayes\n",
      "Training Score 0.5877551020408164\n",
      "Validation Score 0.6080081611833716\n"
     ]
    }
   ],
   "source": [
    "print(\"Multinomial Naive Bayes\")\n",
    "\n",
    "mnb.fit(X_train, y_train)\n",
    "print(\"Training Score\", mnb.score(X_train, y_train))\n",
    "print(\"Validation Score\", mnb.score(X_val, y_val))"
   ]
  },
  {
   "cell_type": "code",
   "execution_count": 60,
   "id": "b9bde97b",
   "metadata": {
    "scrolled": true
   },
   "outputs": [
    {
     "name": "stdout",
     "output_type": "stream",
     "text": [
      "Bernoulli Naive Bayes\n",
      "Training Score 0.3741496598639456\n",
      "Validation Score 0.381280285641418\n"
     ]
    }
   ],
   "source": [
    "print(\"Bernoulli Naive Bayes\")\n",
    "\n",
    "bnb.fit(X_train, y_train)\n",
    "print(\"Training Score\", bnb.score(X_train, y_train))\n",
    "print(\"Validation Score\", bnb.score(X_val, y_val))"
   ]
  },
  {
   "cell_type": "markdown",
   "id": "7b93d9ee",
   "metadata": {},
   "source": [
    "#### Bad Performance by Naive Bayes!!!"
   ]
  },
  {
   "cell_type": "markdown",
   "id": "e99cc365",
   "metadata": {},
   "source": [
    "### 7. k Nearest Neighbor"
   ]
  },
  {
   "cell_type": "code",
   "execution_count": 61,
   "id": "299ee34f",
   "metadata": {},
   "outputs": [],
   "source": [
    "from sklearn.neighbors import KNeighborsClassifier"
   ]
  },
  {
   "cell_type": "code",
   "execution_count": 62,
   "id": "fc5f3866",
   "metadata": {},
   "outputs": [],
   "source": [
    "K = np.arange(2, 21)"
   ]
  },
  {
   "cell_type": "code",
   "execution_count": 63,
   "id": "d64cafa0",
   "metadata": {},
   "outputs": [],
   "source": [
    "knn_start = time.time()"
   ]
  },
  {
   "cell_type": "code",
   "execution_count": 64,
   "id": "c236ee62",
   "metadata": {},
   "outputs": [],
   "source": [
    "training_score = []\n",
    "validation_score = []\n",
    "for i in K:\n",
    "    knn = KNeighborsClassifier(n_neighbors = i) \n",
    "    knn.fit(X_train, y_train)\n",
    "    training_score.append(knn.score(X_train, y_train))\n",
    "    validation_score.append(knn.score(X_val, y_val))"
   ]
  },
  {
   "cell_type": "code",
   "execution_count": 65,
   "id": "0a2520a8",
   "metadata": {},
   "outputs": [
    {
     "name": "stdout",
     "output_type": "stream",
     "text": [
      "k Nearest Neighbors Best Model Searching Time 35.717782497406006\n"
     ]
    }
   ],
   "source": [
    "knn_end = time.time()\n",
    "print(\"k Nearest Neighbors Best Model Searching Time\", knn_end - knn_start)"
   ]
  },
  {
   "cell_type": "code",
   "execution_count": 66,
   "id": "6aed752f",
   "metadata": {},
   "outputs": [],
   "source": [
    "hyper_params_knn = pd.DataFrame({'No of Neighbors' : K, 'Training Score' : np.array(training_score), 'Validation Score' : np.array(validation_score)}, columns = ['No of Neighbors', 'Training Score', 'Validation Score'])"
   ]
  },
  {
   "cell_type": "code",
   "execution_count": 67,
   "id": "43c2edc2",
   "metadata": {
    "scrolled": false
   },
   "outputs": [
    {
     "data": {
      "text/html": [
       "<div>\n",
       "<style scoped>\n",
       "    .dataframe tbody tr th:only-of-type {\n",
       "        vertical-align: middle;\n",
       "    }\n",
       "\n",
       "    .dataframe tbody tr th {\n",
       "        vertical-align: top;\n",
       "    }\n",
       "\n",
       "    .dataframe thead th {\n",
       "        text-align: right;\n",
       "    }\n",
       "</style>\n",
       "<table border=\"1\" class=\"dataframe\">\n",
       "  <thead>\n",
       "    <tr style=\"text-align: right;\">\n",
       "      <th></th>\n",
       "      <th>No of Neighbors</th>\n",
       "      <th>Training Score</th>\n",
       "      <th>Validation Score</th>\n",
       "    </tr>\n",
       "  </thead>\n",
       "  <tbody>\n",
       "    <tr>\n",
       "      <th>10</th>\n",
       "      <td>12</td>\n",
       "      <td>0.751616</td>\n",
       "      <td>0.737312</td>\n",
       "    </tr>\n",
       "  </tbody>\n",
       "</table>\n",
       "</div>"
      ],
      "text/plain": [
       "    No of Neighbors  Training Score  Validation Score\n",
       "10               12        0.751616          0.737312"
      ]
     },
     "execution_count": 67,
     "metadata": {},
     "output_type": "execute_result"
    }
   ],
   "source": [
    "hyper_params_knn[(hyper_params_knn['Validation Score'] == hyper_params_knn['Validation Score'].max())]"
   ]
  },
  {
   "cell_type": "code",
   "execution_count": 68,
   "id": "a4d532a3",
   "metadata": {
    "scrolled": false
   },
   "outputs": [],
   "source": [
    "knn_best_params = hyper_params_knn[(hyper_params_knn['Validation Score'] == hyper_params_knn['Validation Score'].max())]"
   ]
  },
  {
   "cell_type": "code",
   "execution_count": 69,
   "id": "4d86abb3",
   "metadata": {},
   "outputs": [
    {
     "data": {
      "text/html": [
       "<div>\n",
       "<style scoped>\n",
       "    .dataframe tbody tr th:only-of-type {\n",
       "        vertical-align: middle;\n",
       "    }\n",
       "\n",
       "    .dataframe tbody tr th {\n",
       "        vertical-align: top;\n",
       "    }\n",
       "\n",
       "    .dataframe thead th {\n",
       "        text-align: right;\n",
       "    }\n",
       "</style>\n",
       "<table border=\"1\" class=\"dataframe\">\n",
       "  <thead>\n",
       "    <tr style=\"text-align: right;\">\n",
       "      <th></th>\n",
       "      <th>No of Neighbors</th>\n",
       "      <th>Training Score</th>\n",
       "      <th>Validation Score</th>\n",
       "    </tr>\n",
       "  </thead>\n",
       "  <tbody>\n",
       "    <tr>\n",
       "      <th>10</th>\n",
       "      <td>12</td>\n",
       "      <td>0.751616</td>\n",
       "      <td>0.737312</td>\n",
       "    </tr>\n",
       "  </tbody>\n",
       "</table>\n",
       "</div>"
      ],
      "text/plain": [
       "    No of Neighbors  Training Score  Validation Score\n",
       "10               12        0.751616          0.737312"
      ]
     },
     "execution_count": 69,
     "metadata": {},
     "output_type": "execute_result"
    }
   ],
   "source": [
    "knn_best_params"
   ]
  },
  {
   "cell_type": "code",
   "execution_count": 70,
   "id": "0a76fcd4",
   "metadata": {},
   "outputs": [],
   "source": [
    "knn_best_model = KNeighborsClassifier(n_neighbors = knn_best_params['No of Neighbors'].values[0])"
   ]
  },
  {
   "cell_type": "code",
   "execution_count": 71,
   "id": "269d3f42",
   "metadata": {},
   "outputs": [
    {
     "data": {
      "text/plain": [
       "KNeighborsClassifier(n_neighbors=12)"
      ]
     },
     "execution_count": 71,
     "metadata": {},
     "output_type": "execute_result"
    }
   ],
   "source": [
    "knn_best_model.fit(X_train, y_train)"
   ]
  },
  {
   "cell_type": "code",
   "execution_count": 72,
   "id": "e4f55fe9",
   "metadata": {},
   "outputs": [
    {
     "data": {
      "text/plain": [
       "0.737311910226983"
      ]
     },
     "execution_count": 72,
     "metadata": {},
     "output_type": "execute_result"
    }
   ],
   "source": [
    "knn_best_model.score(X_val, y_val)"
   ]
  },
  {
   "cell_type": "code",
   "execution_count": 73,
   "id": "9530fd18",
   "metadata": {},
   "outputs": [],
   "source": [
    "knn_f1_score = metrics.f1_score(y_val, knn_best_model.predict(X_val), average = 'macro')"
   ]
  },
  {
   "cell_type": "code",
   "execution_count": 74,
   "id": "5782f86c",
   "metadata": {},
   "outputs": [
    {
     "data": {
      "text/plain": [
       "0.5280650650340598"
      ]
     },
     "execution_count": 74,
     "metadata": {},
     "output_type": "execute_result"
    }
   ],
   "source": [
    "knn_f1_score"
   ]
  },
  {
   "cell_type": "code",
   "execution_count": null,
   "id": "0f8cff43",
   "metadata": {},
   "outputs": [],
   "source": []
  },
  {
   "cell_type": "markdown",
   "id": "673632a3",
   "metadata": {},
   "source": [
    "### 8. Support Vector Machines"
   ]
  },
  {
   "cell_type": "code",
   "execution_count": 75,
   "id": "c1f42b2e",
   "metadata": {},
   "outputs": [],
   "source": [
    "from sklearn.svm import SVC"
   ]
  },
  {
   "cell_type": "code",
   "execution_count": 76,
   "id": "15ce57fe",
   "metadata": {},
   "outputs": [],
   "source": [
    "params = [\n",
    "    {\n",
    "        'kernel' : ['linear', 'rbf', 'poly', 'sigmoid'],\n",
    "        'C' : [0.23, 1.3, 10.7, 100.1]\n",
    "    }\n",
    "]"
   ]
  },
  {
   "cell_type": "markdown",
   "id": "c1e99c8a",
   "metadata": {},
   "source": [
    "#### Grid Search\n",
    "- Finding the right set of hyperparameters"
   ]
  },
  {
   "cell_type": "code",
   "execution_count": 77,
   "id": "53c43ae0",
   "metadata": {
    "scrolled": true
   },
   "outputs": [
    {
     "name": "stdout",
     "output_type": "stream",
     "text": [
      "8\n"
     ]
    }
   ],
   "source": [
    "cpus = multiprocessing.cpu_count()\n",
    "print(cpus)"
   ]
  },
  {
   "cell_type": "code",
   "execution_count": 78,
   "id": "f630a5bb",
   "metadata": {},
   "outputs": [],
   "source": [
    "gs = GridSearchCV(estimator = SVC(), param_grid = params, scoring = ['accuracy', 'f1_macro'], cv = 5, n_jobs = cpus, refit = 'f1_macro')"
   ]
  },
  {
   "cell_type": "code",
   "execution_count": 79,
   "id": "8e81a5c7",
   "metadata": {},
   "outputs": [],
   "source": [
    "svm_start = time.time()"
   ]
  },
  {
   "cell_type": "code",
   "execution_count": 80,
   "id": "e7556c8d",
   "metadata": {
    "scrolled": true
   },
   "outputs": [
    {
     "data": {
      "text/plain": [
       "GridSearchCV(cv=5, estimator=SVC(), n_jobs=8,\n",
       "             param_grid=[{'C': [0.23, 1.3, 10.7, 100.1],\n",
       "                          'kernel': ['linear', 'rbf', 'poly', 'sigmoid']}],\n",
       "             refit='f1_macro', scoring=['accuracy', 'f1_macro'])"
      ]
     },
     "execution_count": 80,
     "metadata": {},
     "output_type": "execute_result"
    }
   ],
   "source": [
    "gs.fit(np.array(train_data[features]), np.array(train_data['music_genre']))"
   ]
  },
  {
   "cell_type": "code",
   "execution_count": 81,
   "id": "5d1ea898",
   "metadata": {},
   "outputs": [
    {
     "name": "stdout",
     "output_type": "stream",
     "text": [
      "Support Vector Machine Best Model Searching Time 1140.2291572093964\n"
     ]
    }
   ],
   "source": [
    "svm_end = time.time()\n",
    "print(\"Support Vector Machine Best Model Searching Time\", svm_end - svm_start)"
   ]
  },
  {
   "cell_type": "code",
   "execution_count": 82,
   "id": "24a4c83a",
   "metadata": {},
   "outputs": [],
   "source": [
    "hyper_params_svc = pd.DataFrame(gs.cv_results_)"
   ]
  },
  {
   "cell_type": "code",
   "execution_count": 83,
   "id": "0868b817",
   "metadata": {},
   "outputs": [
    {
     "data": {
      "text/html": [
       "<div>\n",
       "<style scoped>\n",
       "    .dataframe tbody tr th:only-of-type {\n",
       "        vertical-align: middle;\n",
       "    }\n",
       "\n",
       "    .dataframe tbody tr th {\n",
       "        vertical-align: top;\n",
       "    }\n",
       "\n",
       "    .dataframe thead th {\n",
       "        text-align: right;\n",
       "    }\n",
       "</style>\n",
       "<table border=\"1\" class=\"dataframe\">\n",
       "  <thead>\n",
       "    <tr style=\"text-align: right;\">\n",
       "      <th></th>\n",
       "      <th>mean_fit_time</th>\n",
       "      <th>std_fit_time</th>\n",
       "      <th>mean_score_time</th>\n",
       "      <th>std_score_time</th>\n",
       "      <th>param_C</th>\n",
       "      <th>param_kernel</th>\n",
       "      <th>params</th>\n",
       "      <th>split0_test_accuracy</th>\n",
       "      <th>split1_test_accuracy</th>\n",
       "      <th>split2_test_accuracy</th>\n",
       "      <th>...</th>\n",
       "      <th>std_test_accuracy</th>\n",
       "      <th>rank_test_accuracy</th>\n",
       "      <th>split0_test_f1_macro</th>\n",
       "      <th>split1_test_f1_macro</th>\n",
       "      <th>split2_test_f1_macro</th>\n",
       "      <th>split3_test_f1_macro</th>\n",
       "      <th>split4_test_f1_macro</th>\n",
       "      <th>mean_test_f1_macro</th>\n",
       "      <th>std_test_f1_macro</th>\n",
       "      <th>rank_test_f1_macro</th>\n",
       "    </tr>\n",
       "  </thead>\n",
       "  <tbody>\n",
       "    <tr>\n",
       "      <th>0</th>\n",
       "      <td>12.033753</td>\n",
       "      <td>0.386522</td>\n",
       "      <td>2.054504</td>\n",
       "      <td>0.019837</td>\n",
       "      <td>0.23</td>\n",
       "      <td>linear</td>\n",
       "      <td>{'C': 0.23, 'kernel': 'linear'}</td>\n",
       "      <td>0.735097</td>\n",
       "      <td>0.718112</td>\n",
       "      <td>0.731824</td>\n",
       "      <td>...</td>\n",
       "      <td>0.006740</td>\n",
       "      <td>12</td>\n",
       "      <td>0.480288</td>\n",
       "      <td>0.452268</td>\n",
       "      <td>0.457763</td>\n",
       "      <td>0.433664</td>\n",
       "      <td>0.448541</td>\n",
       "      <td>0.454505</td>\n",
       "      <td>0.015168</td>\n",
       "      <td>12</td>\n",
       "    </tr>\n",
       "    <tr>\n",
       "      <th>1</th>\n",
       "      <td>13.635475</td>\n",
       "      <td>1.186556</td>\n",
       "      <td>7.022242</td>\n",
       "      <td>0.118827</td>\n",
       "      <td>0.23</td>\n",
       "      <td>rbf</td>\n",
       "      <td>{'C': 0.23, 'kernel': 'rbf'}</td>\n",
       "      <td>0.748167</td>\n",
       "      <td>0.729592</td>\n",
       "      <td>0.745536</td>\n",
       "      <td>...</td>\n",
       "      <td>0.007187</td>\n",
       "      <td>11</td>\n",
       "      <td>0.495957</td>\n",
       "      <td>0.485167</td>\n",
       "      <td>0.490298</td>\n",
       "      <td>0.484203</td>\n",
       "      <td>0.501052</td>\n",
       "      <td>0.491335</td>\n",
       "      <td>0.006415</td>\n",
       "      <td>11</td>\n",
       "    </tr>\n",
       "    <tr>\n",
       "      <th>2</th>\n",
       "      <td>9.524457</td>\n",
       "      <td>0.225642</td>\n",
       "      <td>2.003447</td>\n",
       "      <td>0.075722</td>\n",
       "      <td>0.23</td>\n",
       "      <td>poly</td>\n",
       "      <td>{'C': 0.23, 'kernel': 'poly'}</td>\n",
       "      <td>0.758368</td>\n",
       "      <td>0.746173</td>\n",
       "      <td>0.761161</td>\n",
       "      <td>...</td>\n",
       "      <td>0.005214</td>\n",
       "      <td>7</td>\n",
       "      <td>0.549428</td>\n",
       "      <td>0.547441</td>\n",
       "      <td>0.551984</td>\n",
       "      <td>0.550085</td>\n",
       "      <td>0.564426</td>\n",
       "      <td>0.552673</td>\n",
       "      <td>0.006053</td>\n",
       "      <td>7</td>\n",
       "    </tr>\n",
       "    <tr>\n",
       "      <th>3</th>\n",
       "      <td>28.787704</td>\n",
       "      <td>0.527476</td>\n",
       "      <td>4.662732</td>\n",
       "      <td>0.163672</td>\n",
       "      <td>0.23</td>\n",
       "      <td>sigmoid</td>\n",
       "      <td>{'C': 0.23, 'kernel': 'sigmoid'}</td>\n",
       "      <td>0.400383</td>\n",
       "      <td>0.385842</td>\n",
       "      <td>0.395727</td>\n",
       "      <td>...</td>\n",
       "      <td>0.006323</td>\n",
       "      <td>16</td>\n",
       "      <td>0.227746</td>\n",
       "      <td>0.218729</td>\n",
       "      <td>0.222004</td>\n",
       "      <td>0.214897</td>\n",
       "      <td>0.217701</td>\n",
       "      <td>0.220215</td>\n",
       "      <td>0.004398</td>\n",
       "      <td>16</td>\n",
       "    </tr>\n",
       "    <tr>\n",
       "      <th>4</th>\n",
       "      <td>8.581048</td>\n",
       "      <td>0.391528</td>\n",
       "      <td>2.028973</td>\n",
       "      <td>0.149925</td>\n",
       "      <td>1.3</td>\n",
       "      <td>linear</td>\n",
       "      <td>{'C': 1.3, 'kernel': 'linear'}</td>\n",
       "      <td>0.744661</td>\n",
       "      <td>0.737564</td>\n",
       "      <td>0.747768</td>\n",
       "      <td>...</td>\n",
       "      <td>0.003571</td>\n",
       "      <td>10</td>\n",
       "      <td>0.533172</td>\n",
       "      <td>0.526040</td>\n",
       "      <td>0.533551</td>\n",
       "      <td>0.533089</td>\n",
       "      <td>0.538639</td>\n",
       "      <td>0.532898</td>\n",
       "      <td>0.004013</td>\n",
       "      <td>10</td>\n",
       "    </tr>\n",
       "  </tbody>\n",
       "</table>\n",
       "<p>5 rows × 23 columns</p>\n",
       "</div>"
      ],
      "text/plain": [
       "   mean_fit_time  std_fit_time  mean_score_time  std_score_time param_C  \\\n",
       "0      12.033753      0.386522         2.054504        0.019837    0.23   \n",
       "1      13.635475      1.186556         7.022242        0.118827    0.23   \n",
       "2       9.524457      0.225642         2.003447        0.075722    0.23   \n",
       "3      28.787704      0.527476         4.662732        0.163672    0.23   \n",
       "4       8.581048      0.391528         2.028973        0.149925     1.3   \n",
       "\n",
       "  param_kernel                            params  split0_test_accuracy  \\\n",
       "0       linear   {'C': 0.23, 'kernel': 'linear'}              0.735097   \n",
       "1          rbf      {'C': 0.23, 'kernel': 'rbf'}              0.748167   \n",
       "2         poly     {'C': 0.23, 'kernel': 'poly'}              0.758368   \n",
       "3      sigmoid  {'C': 0.23, 'kernel': 'sigmoid'}              0.400383   \n",
       "4       linear    {'C': 1.3, 'kernel': 'linear'}              0.744661   \n",
       "\n",
       "   split1_test_accuracy  split2_test_accuracy  ...  std_test_accuracy  \\\n",
       "0              0.718112              0.731824  ...           0.006740   \n",
       "1              0.729592              0.745536  ...           0.007187   \n",
       "2              0.746173              0.761161  ...           0.005214   \n",
       "3              0.385842              0.395727  ...           0.006323   \n",
       "4              0.737564              0.747768  ...           0.003571   \n",
       "\n",
       "   rank_test_accuracy  split0_test_f1_macro  split1_test_f1_macro  \\\n",
       "0                  12              0.480288              0.452268   \n",
       "1                  11              0.495957              0.485167   \n",
       "2                   7              0.549428              0.547441   \n",
       "3                  16              0.227746              0.218729   \n",
       "4                  10              0.533172              0.526040   \n",
       "\n",
       "   split2_test_f1_macro  split3_test_f1_macro  split4_test_f1_macro  \\\n",
       "0              0.457763              0.433664              0.448541   \n",
       "1              0.490298              0.484203              0.501052   \n",
       "2              0.551984              0.550085              0.564426   \n",
       "3              0.222004              0.214897              0.217701   \n",
       "4              0.533551              0.533089              0.538639   \n",
       "\n",
       "   mean_test_f1_macro  std_test_f1_macro  rank_test_f1_macro  \n",
       "0            0.454505           0.015168                  12  \n",
       "1            0.491335           0.006415                  11  \n",
       "2            0.552673           0.006053                   7  \n",
       "3            0.220215           0.004398                  16  \n",
       "4            0.532898           0.004013                  10  \n",
       "\n",
       "[5 rows x 23 columns]"
      ]
     },
     "execution_count": 83,
     "metadata": {},
     "output_type": "execute_result"
    }
   ],
   "source": [
    "hyper_params_svc.head()"
   ]
  },
  {
   "cell_type": "code",
   "execution_count": 84,
   "id": "9d557e31",
   "metadata": {
    "scrolled": true
   },
   "outputs": [
    {
     "data": {
      "text/plain": [
       "Index(['mean_fit_time', 'std_fit_time', 'mean_score_time', 'std_score_time',\n",
       "       'param_C', 'param_kernel', 'params', 'split0_test_accuracy',\n",
       "       'split1_test_accuracy', 'split2_test_accuracy', 'split3_test_accuracy',\n",
       "       'split4_test_accuracy', 'mean_test_accuracy', 'std_test_accuracy',\n",
       "       'rank_test_accuracy', 'split0_test_f1_macro', 'split1_test_f1_macro',\n",
       "       'split2_test_f1_macro', 'split3_test_f1_macro', 'split4_test_f1_macro',\n",
       "       'mean_test_f1_macro', 'std_test_f1_macro', 'rank_test_f1_macro'],\n",
       "      dtype='object')"
      ]
     },
     "execution_count": 84,
     "metadata": {},
     "output_type": "execute_result"
    }
   ],
   "source": [
    "hyper_params_svc.columns"
   ]
  },
  {
   "cell_type": "code",
   "execution_count": 85,
   "id": "5c759c21",
   "metadata": {
    "scrolled": true
   },
   "outputs": [
    {
     "data": {
      "text/html": [
       "<div>\n",
       "<style scoped>\n",
       "    .dataframe tbody tr th:only-of-type {\n",
       "        vertical-align: middle;\n",
       "    }\n",
       "\n",
       "    .dataframe tbody tr th {\n",
       "        vertical-align: top;\n",
       "    }\n",
       "\n",
       "    .dataframe thead th {\n",
       "        text-align: right;\n",
       "    }\n",
       "</style>\n",
       "<table border=\"1\" class=\"dataframe\">\n",
       "  <thead>\n",
       "    <tr style=\"text-align: right;\">\n",
       "      <th></th>\n",
       "      <th>mean_test_accuracy</th>\n",
       "      <th>mean_test_f1_macro</th>\n",
       "    </tr>\n",
       "  </thead>\n",
       "  <tbody>\n",
       "    <tr>\n",
       "      <th>14</th>\n",
       "      <td>0.762196</td>\n",
       "      <td>0.580952</td>\n",
       "    </tr>\n",
       "  </tbody>\n",
       "</table>\n",
       "</div>"
      ],
      "text/plain": [
       "    mean_test_accuracy  mean_test_f1_macro\n",
       "14            0.762196            0.580952"
      ]
     },
     "execution_count": 85,
     "metadata": {},
     "output_type": "execute_result"
    }
   ],
   "source": [
    "hyper_params_svc[hyper_params_svc['rank_test_f1_macro'] == 1][[ 'mean_test_accuracy', 'mean_test_f1_macro']]"
   ]
  },
  {
   "cell_type": "code",
   "execution_count": null,
   "id": "baa8f5ad",
   "metadata": {},
   "outputs": [],
   "source": []
  },
  {
   "cell_type": "markdown",
   "id": "ea220082",
   "metadata": {},
   "source": [
    "#### Best Performance Achieved Till Now!!!"
   ]
  },
  {
   "cell_type": "markdown",
   "id": "4067c3a2",
   "metadata": {},
   "source": [
    "### 9. Decsision Trees"
   ]
  },
  {
   "cell_type": "code",
   "execution_count": 86,
   "id": "b21bb089",
   "metadata": {},
   "outputs": [],
   "source": [
    "from sklearn.tree import DecisionTreeClassifier"
   ]
  },
  {
   "cell_type": "code",
   "execution_count": 87,
   "id": "96c41ef0",
   "metadata": {},
   "outputs": [],
   "source": [
    "params = [\n",
    "    {\n",
    "        'criterion' : ['gini', 'entropy'],\n",
    "        'splitter' : ['best', 'random'],\n",
    "        'max_depth' : [4, 8, 16, 32, 64, None]\n",
    "    }\n",
    "]"
   ]
  },
  {
   "cell_type": "code",
   "execution_count": 88,
   "id": "f3cc26ea",
   "metadata": {},
   "outputs": [],
   "source": [
    "gs = GridSearchCV(estimator = DecisionTreeClassifier(), param_grid = params, scoring = ['accuracy', 'f1_macro'], \n",
    "                  cv = 5, n_jobs = cpus, refit = 'f1_macro')"
   ]
  },
  {
   "cell_type": "code",
   "execution_count": 89,
   "id": "8498f044",
   "metadata": {},
   "outputs": [],
   "source": [
    "dt_start = time.time()"
   ]
  },
  {
   "cell_type": "code",
   "execution_count": 90,
   "id": "696b58e0",
   "metadata": {
    "scrolled": false
   },
   "outputs": [
    {
     "data": {
      "text/plain": [
       "GridSearchCV(cv=5, estimator=DecisionTreeClassifier(), n_jobs=8,\n",
       "             param_grid=[{'criterion': ['gini', 'entropy'],\n",
       "                          'max_depth': [4, 8, 16, 32, 64, None],\n",
       "                          'splitter': ['best', 'random']}],\n",
       "             refit='f1_macro', scoring=['accuracy', 'f1_macro'])"
      ]
     },
     "execution_count": 90,
     "metadata": {},
     "output_type": "execute_result"
    }
   ],
   "source": [
    "gs.fit(np.array(train_data[features]), np.array(train_data['music_genre']))"
   ]
  },
  {
   "cell_type": "code",
   "execution_count": 91,
   "id": "20581ada",
   "metadata": {},
   "outputs": [
    {
     "name": "stdout",
     "output_type": "stream",
     "text": [
      "Decision Trees Best Model Searching Time 22.159080505371094\n"
     ]
    }
   ],
   "source": [
    "dt_end = time.time()\n",
    "print(\"Decision Trees Best Model Searching Time\", dt_end - dt_start)"
   ]
  },
  {
   "cell_type": "code",
   "execution_count": 92,
   "id": "03af8a1d",
   "metadata": {},
   "outputs": [],
   "source": [
    "hyper_params_dt = pd.DataFrame(gs.cv_results_)"
   ]
  },
  {
   "cell_type": "code",
   "execution_count": 93,
   "id": "35866052",
   "metadata": {},
   "outputs": [
    {
     "data": {
      "text/html": [
       "<div>\n",
       "<style scoped>\n",
       "    .dataframe tbody tr th:only-of-type {\n",
       "        vertical-align: middle;\n",
       "    }\n",
       "\n",
       "    .dataframe tbody tr th {\n",
       "        vertical-align: top;\n",
       "    }\n",
       "\n",
       "    .dataframe thead th {\n",
       "        text-align: right;\n",
       "    }\n",
       "</style>\n",
       "<table border=\"1\" class=\"dataframe\">\n",
       "  <thead>\n",
       "    <tr style=\"text-align: right;\">\n",
       "      <th></th>\n",
       "      <th>mean_fit_time</th>\n",
       "      <th>std_fit_time</th>\n",
       "      <th>mean_score_time</th>\n",
       "      <th>std_score_time</th>\n",
       "      <th>param_criterion</th>\n",
       "      <th>param_max_depth</th>\n",
       "      <th>param_splitter</th>\n",
       "      <th>params</th>\n",
       "      <th>split0_test_accuracy</th>\n",
       "      <th>split1_test_accuracy</th>\n",
       "      <th>...</th>\n",
       "      <th>std_test_accuracy</th>\n",
       "      <th>rank_test_accuracy</th>\n",
       "      <th>split0_test_f1_macro</th>\n",
       "      <th>split1_test_f1_macro</th>\n",
       "      <th>split2_test_f1_macro</th>\n",
       "      <th>split3_test_f1_macro</th>\n",
       "      <th>split4_test_f1_macro</th>\n",
       "      <th>mean_test_f1_macro</th>\n",
       "      <th>std_test_f1_macro</th>\n",
       "      <th>rank_test_f1_macro</th>\n",
       "    </tr>\n",
       "  </thead>\n",
       "  <tbody>\n",
       "    <tr>\n",
       "      <th>0</th>\n",
       "      <td>0.232146</td>\n",
       "      <td>0.013596</td>\n",
       "      <td>0.008768</td>\n",
       "      <td>0.000361</td>\n",
       "      <td>gini</td>\n",
       "      <td>4</td>\n",
       "      <td>best</td>\n",
       "      <td>{'criterion': 'gini', 'max_depth': 4, 'splitte...</td>\n",
       "      <td>0.700351</td>\n",
       "      <td>0.692283</td>\n",
       "      <td>...</td>\n",
       "      <td>0.004079</td>\n",
       "      <td>3</td>\n",
       "      <td>0.464137</td>\n",
       "      <td>0.468912</td>\n",
       "      <td>0.417319</td>\n",
       "      <td>0.415569</td>\n",
       "      <td>0.462784</td>\n",
       "      <td>0.445744</td>\n",
       "      <td>0.024016</td>\n",
       "      <td>21</td>\n",
       "    </tr>\n",
       "    <tr>\n",
       "      <th>1</th>\n",
       "      <td>0.030017</td>\n",
       "      <td>0.002688</td>\n",
       "      <td>0.008475</td>\n",
       "      <td>0.000797</td>\n",
       "      <td>gini</td>\n",
       "      <td>4</td>\n",
       "      <td>random</td>\n",
       "      <td>{'criterion': 'gini', 'max_depth': 4, 'splitte...</td>\n",
       "      <td>0.623207</td>\n",
       "      <td>0.625000</td>\n",
       "      <td>...</td>\n",
       "      <td>0.015870</td>\n",
       "      <td>23</td>\n",
       "      <td>0.364307</td>\n",
       "      <td>0.372830</td>\n",
       "      <td>0.334624</td>\n",
       "      <td>0.394403</td>\n",
       "      <td>0.362002</td>\n",
       "      <td>0.365633</td>\n",
       "      <td>0.019267</td>\n",
       "      <td>23</td>\n",
       "    </tr>\n",
       "    <tr>\n",
       "      <th>2</th>\n",
       "      <td>0.444004</td>\n",
       "      <td>0.013545</td>\n",
       "      <td>0.008402</td>\n",
       "      <td>0.000494</td>\n",
       "      <td>gini</td>\n",
       "      <td>8</td>\n",
       "      <td>best</td>\n",
       "      <td>{'criterion': 'gini', 'max_depth': 8, 'splitte...</td>\n",
       "      <td>0.744979</td>\n",
       "      <td>0.724809</td>\n",
       "      <td>...</td>\n",
       "      <td>0.006989</td>\n",
       "      <td>1</td>\n",
       "      <td>0.552318</td>\n",
       "      <td>0.542897</td>\n",
       "      <td>0.546493</td>\n",
       "      <td>0.530247</td>\n",
       "      <td>0.570641</td>\n",
       "      <td>0.548519</td>\n",
       "      <td>0.013217</td>\n",
       "      <td>1</td>\n",
       "    </tr>\n",
       "    <tr>\n",
       "      <th>3</th>\n",
       "      <td>0.043897</td>\n",
       "      <td>0.004473</td>\n",
       "      <td>0.011146</td>\n",
       "      <td>0.004333</td>\n",
       "      <td>gini</td>\n",
       "      <td>8</td>\n",
       "      <td>random</td>\n",
       "      <td>{'criterion': 'gini', 'max_depth': 8, 'splitte...</td>\n",
       "      <td>0.701945</td>\n",
       "      <td>0.687181</td>\n",
       "      <td>...</td>\n",
       "      <td>0.017263</td>\n",
       "      <td>7</td>\n",
       "      <td>0.480802</td>\n",
       "      <td>0.433645</td>\n",
       "      <td>0.455247</td>\n",
       "      <td>0.448729</td>\n",
       "      <td>0.450921</td>\n",
       "      <td>0.453869</td>\n",
       "      <td>0.015306</td>\n",
       "      <td>20</td>\n",
       "    </tr>\n",
       "    <tr>\n",
       "      <th>4</th>\n",
       "      <td>0.648552</td>\n",
       "      <td>0.018136</td>\n",
       "      <td>0.009733</td>\n",
       "      <td>0.000767</td>\n",
       "      <td>gini</td>\n",
       "      <td>16</td>\n",
       "      <td>best</td>\n",
       "      <td>{'criterion': 'gini', 'max_depth': 16, 'splitt...</td>\n",
       "      <td>0.685368</td>\n",
       "      <td>0.685268</td>\n",
       "      <td>...</td>\n",
       "      <td>0.003824</td>\n",
       "      <td>5</td>\n",
       "      <td>0.529581</td>\n",
       "      <td>0.527070</td>\n",
       "      <td>0.520021</td>\n",
       "      <td>0.533481</td>\n",
       "      <td>0.525567</td>\n",
       "      <td>0.527144</td>\n",
       "      <td>0.004457</td>\n",
       "      <td>3</td>\n",
       "    </tr>\n",
       "  </tbody>\n",
       "</table>\n",
       "<p>5 rows × 24 columns</p>\n",
       "</div>"
      ],
      "text/plain": [
       "   mean_fit_time  std_fit_time  mean_score_time  std_score_time  \\\n",
       "0       0.232146      0.013596         0.008768        0.000361   \n",
       "1       0.030017      0.002688         0.008475        0.000797   \n",
       "2       0.444004      0.013545         0.008402        0.000494   \n",
       "3       0.043897      0.004473         0.011146        0.004333   \n",
       "4       0.648552      0.018136         0.009733        0.000767   \n",
       "\n",
       "  param_criterion param_max_depth param_splitter  \\\n",
       "0            gini               4           best   \n",
       "1            gini               4         random   \n",
       "2            gini               8           best   \n",
       "3            gini               8         random   \n",
       "4            gini              16           best   \n",
       "\n",
       "                                              params  split0_test_accuracy  \\\n",
       "0  {'criterion': 'gini', 'max_depth': 4, 'splitte...              0.700351   \n",
       "1  {'criterion': 'gini', 'max_depth': 4, 'splitte...              0.623207   \n",
       "2  {'criterion': 'gini', 'max_depth': 8, 'splitte...              0.744979   \n",
       "3  {'criterion': 'gini', 'max_depth': 8, 'splitte...              0.701945   \n",
       "4  {'criterion': 'gini', 'max_depth': 16, 'splitt...              0.685368   \n",
       "\n",
       "   split1_test_accuracy  ...  std_test_accuracy  rank_test_accuracy  \\\n",
       "0              0.692283  ...           0.004079                   3   \n",
       "1              0.625000  ...           0.015870                  23   \n",
       "2              0.724809  ...           0.006989                   1   \n",
       "3              0.687181  ...           0.017263                   7   \n",
       "4              0.685268  ...           0.003824                   5   \n",
       "\n",
       "   split0_test_f1_macro  split1_test_f1_macro  split2_test_f1_macro  \\\n",
       "0              0.464137              0.468912              0.417319   \n",
       "1              0.364307              0.372830              0.334624   \n",
       "2              0.552318              0.542897              0.546493   \n",
       "3              0.480802              0.433645              0.455247   \n",
       "4              0.529581              0.527070              0.520021   \n",
       "\n",
       "   split3_test_f1_macro  split4_test_f1_macro  mean_test_f1_macro  \\\n",
       "0              0.415569              0.462784            0.445744   \n",
       "1              0.394403              0.362002            0.365633   \n",
       "2              0.530247              0.570641            0.548519   \n",
       "3              0.448729              0.450921            0.453869   \n",
       "4              0.533481              0.525567            0.527144   \n",
       "\n",
       "   std_test_f1_macro  rank_test_f1_macro  \n",
       "0           0.024016                  21  \n",
       "1           0.019267                  23  \n",
       "2           0.013217                   1  \n",
       "3           0.015306                  20  \n",
       "4           0.004457                   3  \n",
       "\n",
       "[5 rows x 24 columns]"
      ]
     },
     "execution_count": 93,
     "metadata": {},
     "output_type": "execute_result"
    }
   ],
   "source": [
    "hyper_params_dt.head()"
   ]
  },
  {
   "cell_type": "code",
   "execution_count": 94,
   "id": "8e6b1794",
   "metadata": {},
   "outputs": [
    {
     "data": {
      "text/html": [
       "<div>\n",
       "<style scoped>\n",
       "    .dataframe tbody tr th:only-of-type {\n",
       "        vertical-align: middle;\n",
       "    }\n",
       "\n",
       "    .dataframe tbody tr th {\n",
       "        vertical-align: top;\n",
       "    }\n",
       "\n",
       "    .dataframe thead th {\n",
       "        text-align: right;\n",
       "    }\n",
       "</style>\n",
       "<table border=\"1\" class=\"dataframe\">\n",
       "  <thead>\n",
       "    <tr style=\"text-align: right;\">\n",
       "      <th></th>\n",
       "      <th>mean_test_accuracy</th>\n",
       "      <th>mean_test_f1_macro</th>\n",
       "    </tr>\n",
       "  </thead>\n",
       "  <tbody>\n",
       "    <tr>\n",
       "      <th>2</th>\n",
       "      <td>0.735029</td>\n",
       "      <td>0.548519</td>\n",
       "    </tr>\n",
       "  </tbody>\n",
       "</table>\n",
       "</div>"
      ],
      "text/plain": [
       "   mean_test_accuracy  mean_test_f1_macro\n",
       "2            0.735029            0.548519"
      ]
     },
     "execution_count": 94,
     "metadata": {},
     "output_type": "execute_result"
    }
   ],
   "source": [
    "hyper_params_dt[hyper_params_dt['rank_test_f1_macro'] == 1][[ 'mean_test_accuracy', 'mean_test_f1_macro']]"
   ]
  },
  {
   "cell_type": "markdown",
   "id": "cca4c51b",
   "metadata": {},
   "source": [
    "### 10. Random Forests Classifier"
   ]
  },
  {
   "cell_type": "code",
   "execution_count": 95,
   "id": "396b0dd5",
   "metadata": {},
   "outputs": [],
   "source": [
    "from sklearn.ensemble import RandomForestClassifier\n"
   ]
  },
  {
   "cell_type": "code",
   "execution_count": 96,
   "id": "63a1ec75",
   "metadata": {},
   "outputs": [],
   "source": [
    "params = [\n",
    "    {\n",
    "        'criterion' : ['gini', 'entropy'],\n",
    "        'max_depth' : [4, 8, 16, 32, 64, None],\n",
    "        'bootstrap' : [True],\n",
    "        'max_samples' : [0.75]\n",
    "    }\n",
    "]"
   ]
  },
  {
   "cell_type": "code",
   "execution_count": 97,
   "id": "6a56be64",
   "metadata": {},
   "outputs": [],
   "source": [
    "gs = GridSearchCV(estimator = RandomForestClassifier(), param_grid = params, scoring = ['accuracy', 'f1_macro'], \n",
    "                  cv = 5, n_jobs = cpus, refit = 'f1_macro')"
   ]
  },
  {
   "cell_type": "code",
   "execution_count": 98,
   "id": "de6e3990",
   "metadata": {},
   "outputs": [],
   "source": [
    "rfc_start = time.time()"
   ]
  },
  {
   "cell_type": "code",
   "execution_count": 99,
   "id": "941bff14",
   "metadata": {
    "scrolled": false
   },
   "outputs": [
    {
     "data": {
      "text/plain": [
       "GridSearchCV(cv=5, estimator=RandomForestClassifier(), n_jobs=8,\n",
       "             param_grid=[{'bootstrap': [True], 'criterion': ['gini', 'entropy'],\n",
       "                          'max_depth': [4, 8, 16, 32, 64, None],\n",
       "                          'max_samples': [0.75]}],\n",
       "             refit='f1_macro', scoring=['accuracy', 'f1_macro'])"
      ]
     },
     "execution_count": 99,
     "metadata": {},
     "output_type": "execute_result"
    }
   ],
   "source": [
    "gs.fit(np.array(train_data[features]), np.array(train_data['music_genre']))"
   ]
  },
  {
   "cell_type": "code",
   "execution_count": 100,
   "id": "408fa161",
   "metadata": {},
   "outputs": [
    {
     "name": "stdout",
     "output_type": "stream",
     "text": [
      "Random Forest Classifier Best Model Searching Time 137.22971200942993\n"
     ]
    }
   ],
   "source": [
    "rfc_end = time.time()\n",
    "print(\"Random Forest Classifier Best Model Searching Time\", rfc_end - rfc_start)"
   ]
  },
  {
   "cell_type": "code",
   "execution_count": 101,
   "id": "3082d09a",
   "metadata": {},
   "outputs": [],
   "source": [
    "hyper_params_rfc = pd.DataFrame(gs.cv_results_)"
   ]
  },
  {
   "cell_type": "code",
   "execution_count": 102,
   "id": "ba0f7c28",
   "metadata": {},
   "outputs": [
    {
     "data": {
      "text/html": [
       "<div>\n",
       "<style scoped>\n",
       "    .dataframe tbody tr th:only-of-type {\n",
       "        vertical-align: middle;\n",
       "    }\n",
       "\n",
       "    .dataframe tbody tr th {\n",
       "        vertical-align: top;\n",
       "    }\n",
       "\n",
       "    .dataframe thead th {\n",
       "        text-align: right;\n",
       "    }\n",
       "</style>\n",
       "<table border=\"1\" class=\"dataframe\">\n",
       "  <thead>\n",
       "    <tr style=\"text-align: right;\">\n",
       "      <th></th>\n",
       "      <th>mean_fit_time</th>\n",
       "      <th>std_fit_time</th>\n",
       "      <th>mean_score_time</th>\n",
       "      <th>std_score_time</th>\n",
       "      <th>param_bootstrap</th>\n",
       "      <th>param_criterion</th>\n",
       "      <th>param_max_depth</th>\n",
       "      <th>param_max_samples</th>\n",
       "      <th>params</th>\n",
       "      <th>split0_test_accuracy</th>\n",
       "      <th>...</th>\n",
       "      <th>std_test_accuracy</th>\n",
       "      <th>rank_test_accuracy</th>\n",
       "      <th>split0_test_f1_macro</th>\n",
       "      <th>split1_test_f1_macro</th>\n",
       "      <th>split2_test_f1_macro</th>\n",
       "      <th>split3_test_f1_macro</th>\n",
       "      <th>split4_test_f1_macro</th>\n",
       "      <th>mean_test_f1_macro</th>\n",
       "      <th>std_test_f1_macro</th>\n",
       "      <th>rank_test_f1_macro</th>\n",
       "    </tr>\n",
       "  </thead>\n",
       "  <tbody>\n",
       "    <tr>\n",
       "      <th>0</th>\n",
       "      <td>4.475091</td>\n",
       "      <td>0.804838</td>\n",
       "      <td>0.131687</td>\n",
       "      <td>0.011310</td>\n",
       "      <td>True</td>\n",
       "      <td>gini</td>\n",
       "      <td>4</td>\n",
       "      <td>0.75</td>\n",
       "      <td>{'bootstrap': True, 'criterion': 'gini', 'max_...</td>\n",
       "      <td>0.731272</td>\n",
       "      <td>...</td>\n",
       "      <td>0.006872</td>\n",
       "      <td>11</td>\n",
       "      <td>0.437225</td>\n",
       "      <td>0.425496</td>\n",
       "      <td>0.428309</td>\n",
       "      <td>0.430842</td>\n",
       "      <td>0.426812</td>\n",
       "      <td>0.429737</td>\n",
       "      <td>0.004144</td>\n",
       "      <td>11</td>\n",
       "    </tr>\n",
       "    <tr>\n",
       "      <th>1</th>\n",
       "      <td>7.179512</td>\n",
       "      <td>0.618725</td>\n",
       "      <td>0.167590</td>\n",
       "      <td>0.020980</td>\n",
       "      <td>True</td>\n",
       "      <td>gini</td>\n",
       "      <td>8</td>\n",
       "      <td>0.75</td>\n",
       "      <td>{'bootstrap': True, 'criterion': 'gini', 'max_...</td>\n",
       "      <td>0.778132</td>\n",
       "      <td>...</td>\n",
       "      <td>0.009022</td>\n",
       "      <td>10</td>\n",
       "      <td>0.570546</td>\n",
       "      <td>0.542000</td>\n",
       "      <td>0.571379</td>\n",
       "      <td>0.567660</td>\n",
       "      <td>0.565692</td>\n",
       "      <td>0.563455</td>\n",
       "      <td>0.010919</td>\n",
       "      <td>10</td>\n",
       "    </tr>\n",
       "    <tr>\n",
       "      <th>2</th>\n",
       "      <td>10.702546</td>\n",
       "      <td>0.210179</td>\n",
       "      <td>0.302390</td>\n",
       "      <td>0.084611</td>\n",
       "      <td>True</td>\n",
       "      <td>gini</td>\n",
       "      <td>16</td>\n",
       "      <td>0.75</td>\n",
       "      <td>{'bootstrap': True, 'criterion': 'gini', 'max_...</td>\n",
       "      <td>0.783870</td>\n",
       "      <td>...</td>\n",
       "      <td>0.007956</td>\n",
       "      <td>5</td>\n",
       "      <td>0.593715</td>\n",
       "      <td>0.580186</td>\n",
       "      <td>0.602880</td>\n",
       "      <td>0.598223</td>\n",
       "      <td>0.598660</td>\n",
       "      <td>0.594733</td>\n",
       "      <td>0.007831</td>\n",
       "      <td>7</td>\n",
       "    </tr>\n",
       "    <tr>\n",
       "      <th>3</th>\n",
       "      <td>11.002710</td>\n",
       "      <td>0.777217</td>\n",
       "      <td>0.220271</td>\n",
       "      <td>0.032935</td>\n",
       "      <td>True</td>\n",
       "      <td>gini</td>\n",
       "      <td>32</td>\n",
       "      <td>0.75</td>\n",
       "      <td>{'bootstrap': True, 'criterion': 'gini', 'max_...</td>\n",
       "      <td>0.785145</td>\n",
       "      <td>...</td>\n",
       "      <td>0.006553</td>\n",
       "      <td>8</td>\n",
       "      <td>0.597263</td>\n",
       "      <td>0.583871</td>\n",
       "      <td>0.607004</td>\n",
       "      <td>0.593455</td>\n",
       "      <td>0.593042</td>\n",
       "      <td>0.594927</td>\n",
       "      <td>0.007474</td>\n",
       "      <td>5</td>\n",
       "    </tr>\n",
       "    <tr>\n",
       "      <th>4</th>\n",
       "      <td>10.425477</td>\n",
       "      <td>0.404129</td>\n",
       "      <td>0.227536</td>\n",
       "      <td>0.017486</td>\n",
       "      <td>True</td>\n",
       "      <td>gini</td>\n",
       "      <td>64</td>\n",
       "      <td>0.75</td>\n",
       "      <td>{'bootstrap': True, 'criterion': 'gini', 'max_...</td>\n",
       "      <td>0.785464</td>\n",
       "      <td>...</td>\n",
       "      <td>0.008044</td>\n",
       "      <td>2</td>\n",
       "      <td>0.599990</td>\n",
       "      <td>0.578616</td>\n",
       "      <td>0.603756</td>\n",
       "      <td>0.600759</td>\n",
       "      <td>0.597122</td>\n",
       "      <td>0.596049</td>\n",
       "      <td>0.008969</td>\n",
       "      <td>3</td>\n",
       "    </tr>\n",
       "  </tbody>\n",
       "</table>\n",
       "<p>5 rows × 25 columns</p>\n",
       "</div>"
      ],
      "text/plain": [
       "   mean_fit_time  std_fit_time  mean_score_time  std_score_time  \\\n",
       "0       4.475091      0.804838         0.131687        0.011310   \n",
       "1       7.179512      0.618725         0.167590        0.020980   \n",
       "2      10.702546      0.210179         0.302390        0.084611   \n",
       "3      11.002710      0.777217         0.220271        0.032935   \n",
       "4      10.425477      0.404129         0.227536        0.017486   \n",
       "\n",
       "  param_bootstrap param_criterion param_max_depth param_max_samples  \\\n",
       "0            True            gini               4              0.75   \n",
       "1            True            gini               8              0.75   \n",
       "2            True            gini              16              0.75   \n",
       "3            True            gini              32              0.75   \n",
       "4            True            gini              64              0.75   \n",
       "\n",
       "                                              params  split0_test_accuracy  \\\n",
       "0  {'bootstrap': True, 'criterion': 'gini', 'max_...              0.731272   \n",
       "1  {'bootstrap': True, 'criterion': 'gini', 'max_...              0.778132   \n",
       "2  {'bootstrap': True, 'criterion': 'gini', 'max_...              0.783870   \n",
       "3  {'bootstrap': True, 'criterion': 'gini', 'max_...              0.785145   \n",
       "4  {'bootstrap': True, 'criterion': 'gini', 'max_...              0.785464   \n",
       "\n",
       "   ...  std_test_accuracy  rank_test_accuracy  split0_test_f1_macro  \\\n",
       "0  ...           0.006872                  11              0.437225   \n",
       "1  ...           0.009022                  10              0.570546   \n",
       "2  ...           0.007956                   5              0.593715   \n",
       "3  ...           0.006553                   8              0.597263   \n",
       "4  ...           0.008044                   2              0.599990   \n",
       "\n",
       "   split1_test_f1_macro  split2_test_f1_macro  split3_test_f1_macro  \\\n",
       "0              0.425496              0.428309              0.430842   \n",
       "1              0.542000              0.571379              0.567660   \n",
       "2              0.580186              0.602880              0.598223   \n",
       "3              0.583871              0.607004              0.593455   \n",
       "4              0.578616              0.603756              0.600759   \n",
       "\n",
       "   split4_test_f1_macro  mean_test_f1_macro  std_test_f1_macro  \\\n",
       "0              0.426812            0.429737           0.004144   \n",
       "1              0.565692            0.563455           0.010919   \n",
       "2              0.598660            0.594733           0.007831   \n",
       "3              0.593042            0.594927           0.007474   \n",
       "4              0.597122            0.596049           0.008969   \n",
       "\n",
       "   rank_test_f1_macro  \n",
       "0                  11  \n",
       "1                  10  \n",
       "2                   7  \n",
       "3                   5  \n",
       "4                   3  \n",
       "\n",
       "[5 rows x 25 columns]"
      ]
     },
     "execution_count": 102,
     "metadata": {},
     "output_type": "execute_result"
    }
   ],
   "source": [
    "hyper_params_rfc.head()"
   ]
  },
  {
   "cell_type": "code",
   "execution_count": 103,
   "id": "09dd0a70",
   "metadata": {},
   "outputs": [
    {
     "data": {
      "text/html": [
       "<div>\n",
       "<style scoped>\n",
       "    .dataframe tbody tr th:only-of-type {\n",
       "        vertical-align: middle;\n",
       "    }\n",
       "\n",
       "    .dataframe tbody tr th {\n",
       "        vertical-align: top;\n",
       "    }\n",
       "\n",
       "    .dataframe thead th {\n",
       "        text-align: right;\n",
       "    }\n",
       "</style>\n",
       "<table border=\"1\" class=\"dataframe\">\n",
       "  <thead>\n",
       "    <tr style=\"text-align: right;\">\n",
       "      <th></th>\n",
       "      <th>mean_test_accuracy</th>\n",
       "      <th>mean_test_f1_macro</th>\n",
       "    </tr>\n",
       "  </thead>\n",
       "  <tbody>\n",
       "    <tr>\n",
       "      <th>10</th>\n",
       "      <td>0.780116</td>\n",
       "      <td>0.596683</td>\n",
       "    </tr>\n",
       "  </tbody>\n",
       "</table>\n",
       "</div>"
      ],
      "text/plain": [
       "    mean_test_accuracy  mean_test_f1_macro\n",
       "10            0.780116            0.596683"
      ]
     },
     "execution_count": 103,
     "metadata": {},
     "output_type": "execute_result"
    }
   ],
   "source": [
    "hyper_params_rfc[hyper_params_rfc['rank_test_f1_macro'] == 1][[ 'mean_test_accuracy', 'mean_test_f1_macro']]"
   ]
  },
  {
   "cell_type": "markdown",
   "id": "73b729cc",
   "metadata": {},
   "source": [
    "### 11. Multi Layer Perceptrons"
   ]
  },
  {
   "cell_type": "code",
   "execution_count": 104,
   "id": "55bdb6ee",
   "metadata": {},
   "outputs": [],
   "source": [
    "from sklearn.neural_network import MLPClassifier"
   ]
  },
  {
   "cell_type": "code",
   "execution_count": 105,
   "id": "9ee7248f",
   "metadata": {},
   "outputs": [],
   "source": [
    "params = [\n",
    "    {\n",
    "        'activation' : ['logistic', 'tanh', 'relu'],\n",
    "        'early_stopping' : [True],\n",
    "        'solver' : ['lbfgs', 'sgd', 'adam'],\n",
    "        'hidden_layer_sizes' : [(64, 32), (32, 16), (16,)]\n",
    "    }\n",
    "]"
   ]
  },
  {
   "cell_type": "code",
   "execution_count": 106,
   "id": "409685ee",
   "metadata": {},
   "outputs": [],
   "source": [
    "gs = GridSearchCV(estimator = MLPClassifier(max_iter = 500), param_grid = params, scoring = ['accuracy', 'f1_macro'], \n",
    "            cv = 3, n_jobs = cpus, refit = 'f1_macro')"
   ]
  },
  {
   "cell_type": "code",
   "execution_count": 107,
   "id": "2e243ce8",
   "metadata": {},
   "outputs": [],
   "source": [
    "mlp_start = time.time()"
   ]
  },
  {
   "cell_type": "code",
   "execution_count": 108,
   "id": "7b841e14",
   "metadata": {
    "scrolled": false
   },
   "outputs": [
    {
     "name": "stderr",
     "output_type": "stream",
     "text": [
      "C:\\Users\\805313\\Anaconda3\\lib\\site-packages\\sklearn\\neural_network\\_multilayer_perceptron.py:500: ConvergenceWarning: lbfgs failed to converge (status=1):\n",
      "STOP: TOTAL NO. of ITERATIONS REACHED LIMIT.\n",
      "\n",
      "Increase the number of iterations (max_iter) or scale the data as shown in:\n",
      "    https://scikit-learn.org/stable/modules/preprocessing.html\n",
      "  self.n_iter_ = _check_optimize_result(\"lbfgs\", opt_res, self.max_iter)\n"
     ]
    },
    {
     "data": {
      "text/plain": [
       "GridSearchCV(cv=3, estimator=MLPClassifier(max_iter=500), n_jobs=8,\n",
       "             param_grid=[{'activation': ['logistic', 'tanh', 'relu'],\n",
       "                          'early_stopping': [True],\n",
       "                          'hidden_layer_sizes': [(64, 32), (32, 16), (16,)],\n",
       "                          'solver': ['lbfgs', 'sgd', 'adam']}],\n",
       "             refit='f1_macro', scoring=['accuracy', 'f1_macro'])"
      ]
     },
     "execution_count": 108,
     "metadata": {},
     "output_type": "execute_result"
    }
   ],
   "source": [
    "gs.fit(np.array(train_data[features]), np.array(train_data['music_genre']))"
   ]
  },
  {
   "cell_type": "code",
   "execution_count": 109,
   "id": "c2db4598",
   "metadata": {},
   "outputs": [
    {
     "name": "stdout",
     "output_type": "stream",
     "text": [
      "Multilayer Perceptron Best Model Searching Time 288.2804093360901\n"
     ]
    }
   ],
   "source": [
    "mlp_end = time.time()\n",
    "print(\"Multilayer Perceptron Best Model Searching Time\", mlp_end - mlp_start)"
   ]
  },
  {
   "cell_type": "code",
   "execution_count": 110,
   "id": "92fe48a1",
   "metadata": {},
   "outputs": [],
   "source": [
    "hyper_params_mlp = pd.DataFrame(gs.cv_results_)"
   ]
  },
  {
   "cell_type": "code",
   "execution_count": 111,
   "id": "fb4d95bd",
   "metadata": {},
   "outputs": [
    {
     "data": {
      "text/html": [
       "<div>\n",
       "<style scoped>\n",
       "    .dataframe tbody tr th:only-of-type {\n",
       "        vertical-align: middle;\n",
       "    }\n",
       "\n",
       "    .dataframe tbody tr th {\n",
       "        vertical-align: top;\n",
       "    }\n",
       "\n",
       "    .dataframe thead th {\n",
       "        text-align: right;\n",
       "    }\n",
       "</style>\n",
       "<table border=\"1\" class=\"dataframe\">\n",
       "  <thead>\n",
       "    <tr style=\"text-align: right;\">\n",
       "      <th></th>\n",
       "      <th>mean_fit_time</th>\n",
       "      <th>std_fit_time</th>\n",
       "      <th>mean_score_time</th>\n",
       "      <th>std_score_time</th>\n",
       "      <th>param_activation</th>\n",
       "      <th>param_early_stopping</th>\n",
       "      <th>param_hidden_layer_sizes</th>\n",
       "      <th>param_solver</th>\n",
       "      <th>params</th>\n",
       "      <th>split0_test_accuracy</th>\n",
       "      <th>...</th>\n",
       "      <th>split2_test_accuracy</th>\n",
       "      <th>mean_test_accuracy</th>\n",
       "      <th>std_test_accuracy</th>\n",
       "      <th>rank_test_accuracy</th>\n",
       "      <th>split0_test_f1_macro</th>\n",
       "      <th>split1_test_f1_macro</th>\n",
       "      <th>split2_test_f1_macro</th>\n",
       "      <th>mean_test_f1_macro</th>\n",
       "      <th>std_test_f1_macro</th>\n",
       "      <th>rank_test_f1_macro</th>\n",
       "    </tr>\n",
       "  </thead>\n",
       "  <tbody>\n",
       "    <tr>\n",
       "      <th>0</th>\n",
       "      <td>65.686785</td>\n",
       "      <td>0.955968</td>\n",
       "      <td>0.043335</td>\n",
       "      <td>0.001863</td>\n",
       "      <td>logistic</td>\n",
       "      <td>True</td>\n",
       "      <td>(64, 32)</td>\n",
       "      <td>lbfgs</td>\n",
       "      <td>{'activation': 'logistic', 'early_stopping': T...</td>\n",
       "      <td>0.764492</td>\n",
       "      <td>...</td>\n",
       "      <td>0.770614</td>\n",
       "      <td>0.767489</td>\n",
       "      <td>0.002501</td>\n",
       "      <td>5</td>\n",
       "      <td>0.575206</td>\n",
       "      <td>0.583180</td>\n",
       "      <td>0.594966</td>\n",
       "      <td>0.584451</td>\n",
       "      <td>0.008117</td>\n",
       "      <td>5</td>\n",
       "    </tr>\n",
       "    <tr>\n",
       "      <th>1</th>\n",
       "      <td>2.159230</td>\n",
       "      <td>0.110950</td>\n",
       "      <td>0.045130</td>\n",
       "      <td>0.005085</td>\n",
       "      <td>logistic</td>\n",
       "      <td>True</td>\n",
       "      <td>(64, 32)</td>\n",
       "      <td>sgd</td>\n",
       "      <td>{'activation': 'logistic', 'early_stopping': T...</td>\n",
       "      <td>0.247369</td>\n",
       "      <td>...</td>\n",
       "      <td>0.254448</td>\n",
       "      <td>0.252089</td>\n",
       "      <td>0.003337</td>\n",
       "      <td>27</td>\n",
       "      <td>0.056661</td>\n",
       "      <td>0.057953</td>\n",
       "      <td>0.057953</td>\n",
       "      <td>0.057522</td>\n",
       "      <td>0.000609</td>\n",
       "      <td>27</td>\n",
       "    </tr>\n",
       "    <tr>\n",
       "      <th>2</th>\n",
       "      <td>15.645393</td>\n",
       "      <td>0.670105</td>\n",
       "      <td>0.048298</td>\n",
       "      <td>0.008697</td>\n",
       "      <td>logistic</td>\n",
       "      <td>True</td>\n",
       "      <td>(64, 32)</td>\n",
       "      <td>adam</td>\n",
       "      <td>{'activation': 'logistic', 'early_stopping': T...</td>\n",
       "      <td>0.722403</td>\n",
       "      <td>...</td>\n",
       "      <td>0.727951</td>\n",
       "      <td>0.727377</td>\n",
       "      <td>0.003849</td>\n",
       "      <td>16</td>\n",
       "      <td>0.434209</td>\n",
       "      <td>0.438757</td>\n",
       "      <td>0.436699</td>\n",
       "      <td>0.436555</td>\n",
       "      <td>0.001860</td>\n",
       "      <td>17</td>\n",
       "    </tr>\n",
       "    <tr>\n",
       "      <th>3</th>\n",
       "      <td>38.787321</td>\n",
       "      <td>1.263753</td>\n",
       "      <td>0.031930</td>\n",
       "      <td>0.005863</td>\n",
       "      <td>logistic</td>\n",
       "      <td>True</td>\n",
       "      <td>(32, 16)</td>\n",
       "      <td>lbfgs</td>\n",
       "      <td>{'activation': 'logistic', 'early_stopping': T...</td>\n",
       "      <td>0.765066</td>\n",
       "      <td>...</td>\n",
       "      <td>0.759901</td>\n",
       "      <td>0.765002</td>\n",
       "      <td>0.004140</td>\n",
       "      <td>8</td>\n",
       "      <td>0.573471</td>\n",
       "      <td>0.584845</td>\n",
       "      <td>0.574781</td>\n",
       "      <td>0.577699</td>\n",
       "      <td>0.005081</td>\n",
       "      <td>8</td>\n",
       "    </tr>\n",
       "    <tr>\n",
       "      <th>4</th>\n",
       "      <td>2.648549</td>\n",
       "      <td>0.862823</td>\n",
       "      <td>0.028374</td>\n",
       "      <td>0.002070</td>\n",
       "      <td>logistic</td>\n",
       "      <td>True</td>\n",
       "      <td>(32, 16)</td>\n",
       "      <td>sgd</td>\n",
       "      <td>{'activation': 'logistic', 'early_stopping': T...</td>\n",
       "      <td>0.254448</td>\n",
       "      <td>...</td>\n",
       "      <td>0.254448</td>\n",
       "      <td>0.318730</td>\n",
       "      <td>0.090908</td>\n",
       "      <td>26</td>\n",
       "      <td>0.057953</td>\n",
       "      <td>0.179210</td>\n",
       "      <td>0.057953</td>\n",
       "      <td>0.098372</td>\n",
       "      <td>0.057161</td>\n",
       "      <td>26</td>\n",
       "    </tr>\n",
       "  </tbody>\n",
       "</table>\n",
       "<p>5 rows × 21 columns</p>\n",
       "</div>"
      ],
      "text/plain": [
       "   mean_fit_time  std_fit_time  mean_score_time  std_score_time  \\\n",
       "0      65.686785      0.955968         0.043335        0.001863   \n",
       "1       2.159230      0.110950         0.045130        0.005085   \n",
       "2      15.645393      0.670105         0.048298        0.008697   \n",
       "3      38.787321      1.263753         0.031930        0.005863   \n",
       "4       2.648549      0.862823         0.028374        0.002070   \n",
       "\n",
       "  param_activation param_early_stopping param_hidden_layer_sizes param_solver  \\\n",
       "0         logistic                 True                 (64, 32)        lbfgs   \n",
       "1         logistic                 True                 (64, 32)          sgd   \n",
       "2         logistic                 True                 (64, 32)         adam   \n",
       "3         logistic                 True                 (32, 16)        lbfgs   \n",
       "4         logistic                 True                 (32, 16)          sgd   \n",
       "\n",
       "                                              params  split0_test_accuracy  \\\n",
       "0  {'activation': 'logistic', 'early_stopping': T...              0.764492   \n",
       "1  {'activation': 'logistic', 'early_stopping': T...              0.247369   \n",
       "2  {'activation': 'logistic', 'early_stopping': T...              0.722403   \n",
       "3  {'activation': 'logistic', 'early_stopping': T...              0.765066   \n",
       "4  {'activation': 'logistic', 'early_stopping': T...              0.254448   \n",
       "\n",
       "   ...  split2_test_accuracy  mean_test_accuracy  std_test_accuracy  \\\n",
       "0  ...              0.770614            0.767489           0.002501   \n",
       "1  ...              0.254448            0.252089           0.003337   \n",
       "2  ...              0.727951            0.727377           0.003849   \n",
       "3  ...              0.759901            0.765002           0.004140   \n",
       "4  ...              0.254448            0.318730           0.090908   \n",
       "\n",
       "   rank_test_accuracy  split0_test_f1_macro  split1_test_f1_macro  \\\n",
       "0                   5              0.575206              0.583180   \n",
       "1                  27              0.056661              0.057953   \n",
       "2                  16              0.434209              0.438757   \n",
       "3                   8              0.573471              0.584845   \n",
       "4                  26              0.057953              0.179210   \n",
       "\n",
       "   split2_test_f1_macro  mean_test_f1_macro  std_test_f1_macro  \\\n",
       "0              0.594966            0.584451           0.008117   \n",
       "1              0.057953            0.057522           0.000609   \n",
       "2              0.436699            0.436555           0.001860   \n",
       "3              0.574781            0.577699           0.005081   \n",
       "4              0.057953            0.098372           0.057161   \n",
       "\n",
       "   rank_test_f1_macro  \n",
       "0                   5  \n",
       "1                  27  \n",
       "2                  17  \n",
       "3                   8  \n",
       "4                  26  \n",
       "\n",
       "[5 rows x 21 columns]"
      ]
     },
     "execution_count": 111,
     "metadata": {},
     "output_type": "execute_result"
    }
   ],
   "source": [
    "hyper_params_mlp.head()"
   ]
  },
  {
   "cell_type": "code",
   "execution_count": 112,
   "id": "92e99e80",
   "metadata": {},
   "outputs": [
    {
     "data": {
      "text/html": [
       "<div>\n",
       "<style scoped>\n",
       "    .dataframe tbody tr th:only-of-type {\n",
       "        vertical-align: middle;\n",
       "    }\n",
       "\n",
       "    .dataframe tbody tr th {\n",
       "        vertical-align: top;\n",
       "    }\n",
       "\n",
       "    .dataframe thead th {\n",
       "        text-align: right;\n",
       "    }\n",
       "</style>\n",
       "<table border=\"1\" class=\"dataframe\">\n",
       "  <thead>\n",
       "    <tr style=\"text-align: right;\">\n",
       "      <th></th>\n",
       "      <th>mean_test_accuracy</th>\n",
       "      <th>mean_test_f1_macro</th>\n",
       "    </tr>\n",
       "  </thead>\n",
       "  <tbody>\n",
       "    <tr>\n",
       "      <th>9</th>\n",
       "      <td>0.771316</td>\n",
       "      <td>0.595058</td>\n",
       "    </tr>\n",
       "  </tbody>\n",
       "</table>\n",
       "</div>"
      ],
      "text/plain": [
       "   mean_test_accuracy  mean_test_f1_macro\n",
       "9            0.771316            0.595058"
      ]
     },
     "execution_count": 112,
     "metadata": {},
     "output_type": "execute_result"
    }
   ],
   "source": [
    "hyper_params_mlp[hyper_params_mlp['rank_test_f1_macro'] == 1][[ 'mean_test_accuracy', 'mean_test_f1_macro']]"
   ]
  },
  {
   "cell_type": "code",
   "execution_count": null,
   "id": "acc5122f",
   "metadata": {},
   "outputs": [],
   "source": []
  },
  {
   "cell_type": "markdown",
   "id": "e80271f6",
   "metadata": {},
   "source": [
    "### Best Performance has been achieved by Random Forest Classifier."
   ]
  },
  {
   "cell_type": "code",
   "execution_count": 113,
   "id": "26f7b8f7",
   "metadata": {
    "scrolled": false
   },
   "outputs": [],
   "source": [
    "best_model_params = hyper_params_rfc[hyper_params_rfc['rank_test_f1_macro'] == 1]"
   ]
  },
  {
   "cell_type": "code",
   "execution_count": 114,
   "id": "220959a7",
   "metadata": {},
   "outputs": [
    {
     "data": {
      "text/html": [
       "<div>\n",
       "<style scoped>\n",
       "    .dataframe tbody tr th:only-of-type {\n",
       "        vertical-align: middle;\n",
       "    }\n",
       "\n",
       "    .dataframe tbody tr th {\n",
       "        vertical-align: top;\n",
       "    }\n",
       "\n",
       "    .dataframe thead th {\n",
       "        text-align: right;\n",
       "    }\n",
       "</style>\n",
       "<table border=\"1\" class=\"dataframe\">\n",
       "  <thead>\n",
       "    <tr style=\"text-align: right;\">\n",
       "      <th></th>\n",
       "      <th>mean_fit_time</th>\n",
       "      <th>std_fit_time</th>\n",
       "      <th>mean_score_time</th>\n",
       "      <th>std_score_time</th>\n",
       "      <th>param_bootstrap</th>\n",
       "      <th>param_criterion</th>\n",
       "      <th>param_max_depth</th>\n",
       "      <th>param_max_samples</th>\n",
       "      <th>params</th>\n",
       "      <th>split0_test_accuracy</th>\n",
       "      <th>...</th>\n",
       "      <th>std_test_accuracy</th>\n",
       "      <th>rank_test_accuracy</th>\n",
       "      <th>split0_test_f1_macro</th>\n",
       "      <th>split1_test_f1_macro</th>\n",
       "      <th>split2_test_f1_macro</th>\n",
       "      <th>split3_test_f1_macro</th>\n",
       "      <th>split4_test_f1_macro</th>\n",
       "      <th>mean_test_f1_macro</th>\n",
       "      <th>std_test_f1_macro</th>\n",
       "      <th>rank_test_f1_macro</th>\n",
       "    </tr>\n",
       "  </thead>\n",
       "  <tbody>\n",
       "    <tr>\n",
       "      <th>10</th>\n",
       "      <td>23.173554</td>\n",
       "      <td>1.513983</td>\n",
       "      <td>0.198624</td>\n",
       "      <td>0.00583</td>\n",
       "      <td>True</td>\n",
       "      <td>entropy</td>\n",
       "      <td>64</td>\n",
       "      <td>0.75</td>\n",
       "      <td>{'bootstrap': True, 'criterion': 'entropy', 'm...</td>\n",
       "      <td>0.783232</td>\n",
       "      <td>...</td>\n",
       "      <td>0.006942</td>\n",
       "      <td>4</td>\n",
       "      <td>0.592917</td>\n",
       "      <td>0.584278</td>\n",
       "      <td>0.608942</td>\n",
       "      <td>0.597857</td>\n",
       "      <td>0.599422</td>\n",
       "      <td>0.596683</td>\n",
       "      <td>0.00809</td>\n",
       "      <td>1</td>\n",
       "    </tr>\n",
       "  </tbody>\n",
       "</table>\n",
       "<p>1 rows × 25 columns</p>\n",
       "</div>"
      ],
      "text/plain": [
       "    mean_fit_time  std_fit_time  mean_score_time  std_score_time  \\\n",
       "10      23.173554      1.513983         0.198624         0.00583   \n",
       "\n",
       "   param_bootstrap param_criterion param_max_depth param_max_samples  \\\n",
       "10            True         entropy              64              0.75   \n",
       "\n",
       "                                               params  split0_test_accuracy  \\\n",
       "10  {'bootstrap': True, 'criterion': 'entropy', 'm...              0.783232   \n",
       "\n",
       "    ...  std_test_accuracy  rank_test_accuracy  split0_test_f1_macro  \\\n",
       "10  ...           0.006942                   4              0.592917   \n",
       "\n",
       "    split1_test_f1_macro  split2_test_f1_macro  split3_test_f1_macro  \\\n",
       "10              0.584278              0.608942              0.597857   \n",
       "\n",
       "    split4_test_f1_macro  mean_test_f1_macro  std_test_f1_macro  \\\n",
       "10              0.599422            0.596683            0.00809   \n",
       "\n",
       "    rank_test_f1_macro  \n",
       "10                   1  \n",
       "\n",
       "[1 rows x 25 columns]"
      ]
     },
     "execution_count": 114,
     "metadata": {},
     "output_type": "execute_result"
    }
   ],
   "source": [
    "best_model_params"
   ]
  },
  {
   "cell_type": "code",
   "execution_count": 115,
   "id": "074f4fb4",
   "metadata": {},
   "outputs": [],
   "source": [
    "best_model = RandomForestClassifier(bootstrap = True, max_samples = 0.75, \n",
    "                                    criterion = best_model_params['param_criterion'].values[0], \n",
    "                                    max_depth = best_model_params['param_max_depth'].values[0])"
   ]
  },
  {
   "cell_type": "code",
   "execution_count": 116,
   "id": "88e54fd4",
   "metadata": {},
   "outputs": [
    {
     "data": {
      "text/plain": [
       "RandomForestClassifier(criterion='entropy', max_depth=64, max_samples=0.75)"
      ]
     },
     "execution_count": 116,
     "metadata": {},
     "output_type": "execute_result"
    }
   ],
   "source": [
    "best_model.fit(X_train, y_train)"
   ]
  },
  {
   "cell_type": "code",
   "execution_count": 117,
   "id": "4dbf817a",
   "metadata": {},
   "outputs": [
    {
     "data": {
      "text/plain": [
       "0.9987244897959183"
      ]
     },
     "execution_count": 117,
     "metadata": {},
     "output_type": "execute_result"
    }
   ],
   "source": [
    "best_model.score(X_train, y_train)"
   ]
  },
  {
   "cell_type": "code",
   "execution_count": 118,
   "id": "c02fe63f",
   "metadata": {
    "scrolled": true
   },
   "outputs": [
    {
     "data": {
      "text/plain": [
       "0.7842387146136189"
      ]
     },
     "execution_count": 118,
     "metadata": {},
     "output_type": "execute_result"
    }
   ],
   "source": [
    "best_model.score(X_val, y_val)"
   ]
  },
  {
   "cell_type": "code",
   "execution_count": 119,
   "id": "9ed82bcb",
   "metadata": {},
   "outputs": [
    {
     "data": {
      "text/plain": [
       "0.6025861800859789"
      ]
     },
     "execution_count": 119,
     "metadata": {},
     "output_type": "execute_result"
    }
   ],
   "source": [
    "metrics.f1_score(y_val, best_model.predict(X_val), average = 'macro')"
   ]
  },
  {
   "cell_type": "code",
   "execution_count": 120,
   "id": "3791601d",
   "metadata": {},
   "outputs": [],
   "source": [
    "predicted_labels = best_model.predict(X_test)"
   ]
  },
  {
   "cell_type": "code",
   "execution_count": 121,
   "id": "e05da140",
   "metadata": {},
   "outputs": [],
   "source": [
    "predicted_genres = le_mg.inverse_transform(predicted_labels)"
   ]
  },
  {
   "cell_type": "code",
   "execution_count": 122,
   "id": "5bffb174",
   "metadata": {},
   "outputs": [
    {
     "data": {
      "text/plain": [
       "array(['Classical', 'Rock', 'Rock', ..., 'Classical', 'Country', 'Jazz'],\n",
       "      dtype=object)"
      ]
     },
     "execution_count": 122,
     "metadata": {},
     "output_type": "execute_result"
    }
   ],
   "source": [
    "predicted_genres"
   ]
  },
  {
   "cell_type": "code",
   "execution_count": 123,
   "id": "bc69b8bf",
   "metadata": {},
   "outputs": [],
   "source": [
    "test_index = test_data['instance_id']"
   ]
  },
  {
   "cell_type": "code",
   "execution_count": 124,
   "id": "c7079096",
   "metadata": {},
   "outputs": [
    {
     "data": {
      "text/plain": [
       "0       MSC_70753.0\n",
       "1       MSC_24064.0\n",
       "2       MSC_22731.0\n",
       "3       MSC_32095.0\n",
       "4       MSC_24198.0\n",
       "           ...     \n",
       "3916    MSC_80955.0\n",
       "3917    MSC_72767.0\n",
       "3918    MSC_40192.0\n",
       "3919    MSC_56067.0\n",
       "3920    MSC_90169.0\n",
       "Name: instance_id, Length: 3921, dtype: object"
      ]
     },
     "execution_count": 124,
     "metadata": {},
     "output_type": "execute_result"
    }
   ],
   "source": [
    "test_index"
   ]
  },
  {
   "cell_type": "code",
   "execution_count": 125,
   "id": "06446152",
   "metadata": {},
   "outputs": [],
   "source": [
    "pred_df = pd.DataFrame({'instance_id' : test_index, 'music_genre' : predicted_genres}, columns = ['instance_id', 'music_genre'])"
   ]
  },
  {
   "cell_type": "code",
   "execution_count": 126,
   "id": "a310aac4",
   "metadata": {},
   "outputs": [
    {
     "data": {
      "text/html": [
       "<div>\n",
       "<style scoped>\n",
       "    .dataframe tbody tr th:only-of-type {\n",
       "        vertical-align: middle;\n",
       "    }\n",
       "\n",
       "    .dataframe tbody tr th {\n",
       "        vertical-align: top;\n",
       "    }\n",
       "\n",
       "    .dataframe thead th {\n",
       "        text-align: right;\n",
       "    }\n",
       "</style>\n",
       "<table border=\"1\" class=\"dataframe\">\n",
       "  <thead>\n",
       "    <tr style=\"text-align: right;\">\n",
       "      <th></th>\n",
       "      <th>instance_id</th>\n",
       "      <th>music_genre</th>\n",
       "    </tr>\n",
       "  </thead>\n",
       "  <tbody>\n",
       "    <tr>\n",
       "      <th>0</th>\n",
       "      <td>MSC_70753.0</td>\n",
       "      <td>Classical</td>\n",
       "    </tr>\n",
       "    <tr>\n",
       "      <th>1</th>\n",
       "      <td>MSC_24064.0</td>\n",
       "      <td>Rock</td>\n",
       "    </tr>\n",
       "    <tr>\n",
       "      <th>2</th>\n",
       "      <td>MSC_22731.0</td>\n",
       "      <td>Rock</td>\n",
       "    </tr>\n",
       "    <tr>\n",
       "      <th>3</th>\n",
       "      <td>MSC_32095.0</td>\n",
       "      <td>Rock</td>\n",
       "    </tr>\n",
       "    <tr>\n",
       "      <th>4</th>\n",
       "      <td>MSC_24198.0</td>\n",
       "      <td>Jazz</td>\n",
       "    </tr>\n",
       "    <tr>\n",
       "      <th>...</th>\n",
       "      <td>...</td>\n",
       "      <td>...</td>\n",
       "    </tr>\n",
       "    <tr>\n",
       "      <th>3916</th>\n",
       "      <td>MSC_80955.0</td>\n",
       "      <td>Classical</td>\n",
       "    </tr>\n",
       "    <tr>\n",
       "      <th>3917</th>\n",
       "      <td>MSC_72767.0</td>\n",
       "      <td>Rock</td>\n",
       "    </tr>\n",
       "    <tr>\n",
       "      <th>3918</th>\n",
       "      <td>MSC_40192.0</td>\n",
       "      <td>Classical</td>\n",
       "    </tr>\n",
       "    <tr>\n",
       "      <th>3919</th>\n",
       "      <td>MSC_56067.0</td>\n",
       "      <td>Country</td>\n",
       "    </tr>\n",
       "    <tr>\n",
       "      <th>3920</th>\n",
       "      <td>MSC_90169.0</td>\n",
       "      <td>Jazz</td>\n",
       "    </tr>\n",
       "  </tbody>\n",
       "</table>\n",
       "<p>3921 rows × 2 columns</p>\n",
       "</div>"
      ],
      "text/plain": [
       "      instance_id music_genre\n",
       "0     MSC_70753.0   Classical\n",
       "1     MSC_24064.0        Rock\n",
       "2     MSC_22731.0        Rock\n",
       "3     MSC_32095.0        Rock\n",
       "4     MSC_24198.0        Jazz\n",
       "...           ...         ...\n",
       "3916  MSC_80955.0   Classical\n",
       "3917  MSC_72767.0        Rock\n",
       "3918  MSC_40192.0   Classical\n",
       "3919  MSC_56067.0     Country\n",
       "3920  MSC_90169.0        Jazz\n",
       "\n",
       "[3921 rows x 2 columns]"
      ]
     },
     "execution_count": 126,
     "metadata": {},
     "output_type": "execute_result"
    }
   ],
   "source": [
    "pred_df"
   ]
  },
  {
   "cell_type": "code",
   "execution_count": 127,
   "id": "b4372cfa",
   "metadata": {},
   "outputs": [],
   "source": [
    "pred_df.to_csv(\"best_model_results.csv\")"
   ]
  },
  {
   "cell_type": "code",
   "execution_count": 128,
   "id": "ca5c7fed",
   "metadata": {},
   "outputs": [
    {
     "name": "stdout",
     "output_type": "stream",
     "text": [
      "Notebook Execution Time 1680.1471560001373\n"
     ]
    }
   ],
   "source": [
    "notebook_end = time.time()\n",
    "print(\"Notebook Execution Time\", notebook_end - notebook_start)"
   ]
  },
  {
   "cell_type": "markdown",
   "id": "f23a88b5",
   "metadata": {},
   "source": [
    "### Random Forest Classifier leads to OverFitting"
   ]
  },
  {
   "cell_type": "code",
   "execution_count": 129,
   "id": "bd241cbd",
   "metadata": {},
   "outputs": [],
   "source": [
    "params = [\n",
    "    {\n",
    "        'criterion' : ['gini', 'entropy'],\n",
    "        'max_depth' : [4, 5, 6, 7, 8, 9, 10, 11, 12, 13, 14, 15]\n",
    "    }\n",
    "]"
   ]
  },
  {
   "cell_type": "code",
   "execution_count": 130,
   "id": "c50a7ef1",
   "metadata": {},
   "outputs": [],
   "source": [
    "gs = GridSearchCV(estimator = RandomForestClassifier(), param_grid = params, scoring = ['accuracy', 'f1_macro'], \n",
    "                  cv = 5, n_jobs = cpus, refit = 'f1_macro', return_train_score = True)"
   ]
  },
  {
   "cell_type": "code",
   "execution_count": 131,
   "id": "f8d51df2",
   "metadata": {},
   "outputs": [],
   "source": [
    "rfc_start = time.time()"
   ]
  },
  {
   "cell_type": "code",
   "execution_count": 132,
   "id": "6b147bf0",
   "metadata": {
    "scrolled": false
   },
   "outputs": [
    {
     "data": {
      "text/plain": [
       "GridSearchCV(cv=5, estimator=RandomForestClassifier(), n_jobs=8,\n",
       "             param_grid=[{'criterion': ['gini', 'entropy'],\n",
       "                          'max_depth': [4, 5, 6, 7, 8, 9, 10, 11, 12, 13, 14,\n",
       "                                        15]}],\n",
       "             refit='f1_macro', return_train_score=True,\n",
       "             scoring=['accuracy', 'f1_macro'])"
      ]
     },
     "execution_count": 132,
     "metadata": {},
     "output_type": "execute_result"
    }
   ],
   "source": [
    "gs.fit(np.array(train_data[features]), np.array(train_data['music_genre']))"
   ]
  },
  {
   "cell_type": "code",
   "execution_count": 133,
   "id": "96589032",
   "metadata": {},
   "outputs": [
    {
     "name": "stdout",
     "output_type": "stream",
     "text": [
      "Random Forest Classifier Best Model Searching Time 258.79446601867676\n"
     ]
    }
   ],
   "source": [
    "rfc_end = time.time()\n",
    "print(\"Random Forest Classifier Best Model Searching Time\", rfc_end - rfc_start)"
   ]
  },
  {
   "cell_type": "code",
   "execution_count": 134,
   "id": "798377d8",
   "metadata": {},
   "outputs": [],
   "source": [
    "hyper_params_rfc = pd.DataFrame(gs.cv_results_)"
   ]
  },
  {
   "cell_type": "code",
   "execution_count": 135,
   "id": "e63f5b7b",
   "metadata": {},
   "outputs": [],
   "source": [
    "hyper_params_rfc.to_csv(\"hyper_params.csv\")"
   ]
  },
  {
   "cell_type": "markdown",
   "id": "613b366b",
   "metadata": {},
   "source": [
    "#### We see that for criterion: 'entropy' and max_depth: 7\n",
    "#### The Random Forest model gives a good generalization"
   ]
  },
  {
   "cell_type": "code",
   "execution_count": 136,
   "id": "284f5341",
   "metadata": {},
   "outputs": [],
   "source": [
    "best_generalized_model = RandomForestClassifier(criterion = 'entropy', max_depth = 7, bootstrap = True, max_samples = 0.75)"
   ]
  },
  {
   "cell_type": "code",
   "execution_count": 137,
   "id": "3732c091",
   "metadata": {},
   "outputs": [
    {
     "data": {
      "text/plain": [
       "RandomForestClassifier(criterion='entropy', max_depth=7, max_samples=0.75)"
      ]
     },
     "execution_count": 137,
     "metadata": {},
     "output_type": "execute_result"
    }
   ],
   "source": [
    "best_generalized_model.fit(X_train, y_train)"
   ]
  },
  {
   "cell_type": "code",
   "execution_count": 138,
   "id": "3a8d5157",
   "metadata": {},
   "outputs": [
    {
     "data": {
      "text/plain": [
       "0.7814625850340136"
      ]
     },
     "execution_count": 138,
     "metadata": {},
     "output_type": "execute_result"
    }
   ],
   "source": [
    "best_generalized_model.score(X_train, y_train)"
   ]
  },
  {
   "cell_type": "code",
   "execution_count": 139,
   "id": "a385e68f",
   "metadata": {
    "scrolled": true
   },
   "outputs": [
    {
     "data": {
      "text/plain": [
       "0.7725070135169599"
      ]
     },
     "execution_count": 139,
     "metadata": {},
     "output_type": "execute_result"
    }
   ],
   "source": [
    "best_generalized_model.score(X_val, y_val)"
   ]
  },
  {
   "cell_type": "code",
   "execution_count": 140,
   "id": "982d35e7",
   "metadata": {},
   "outputs": [
    {
     "data": {
      "text/plain": [
       "0.5533821191160436"
      ]
     },
     "execution_count": 140,
     "metadata": {},
     "output_type": "execute_result"
    }
   ],
   "source": [
    "metrics.f1_score(y_val, best_generalized_model.predict(X_val), average = 'macro')"
   ]
  },
  {
   "cell_type": "code",
   "execution_count": 141,
   "id": "6407d9cd",
   "metadata": {},
   "outputs": [],
   "source": [
    "predicted_labels = best_generalized_model.predict(X_test)"
   ]
  },
  {
   "cell_type": "code",
   "execution_count": 142,
   "id": "606b5b28",
   "metadata": {},
   "outputs": [],
   "source": [
    "predicted_genres = le_mg.inverse_transform(predicted_labels)"
   ]
  },
  {
   "cell_type": "code",
   "execution_count": 143,
   "id": "be10b516",
   "metadata": {},
   "outputs": [
    {
     "data": {
      "text/plain": [
       "array(['Classical', 'Rock', 'Rock', ..., 'Classical', 'Rock', 'Jazz'],\n",
       "      dtype=object)"
      ]
     },
     "execution_count": 143,
     "metadata": {},
     "output_type": "execute_result"
    }
   ],
   "source": [
    "predicted_genres"
   ]
  },
  {
   "cell_type": "code",
   "execution_count": 144,
   "id": "31e9a756",
   "metadata": {},
   "outputs": [],
   "source": [
    "test_index = test_data['instance_id']"
   ]
  },
  {
   "cell_type": "code",
   "execution_count": 145,
   "id": "5e712a97",
   "metadata": {},
   "outputs": [
    {
     "data": {
      "text/plain": [
       "0       MSC_70753.0\n",
       "1       MSC_24064.0\n",
       "2       MSC_22731.0\n",
       "3       MSC_32095.0\n",
       "4       MSC_24198.0\n",
       "           ...     \n",
       "3916    MSC_80955.0\n",
       "3917    MSC_72767.0\n",
       "3918    MSC_40192.0\n",
       "3919    MSC_56067.0\n",
       "3920    MSC_90169.0\n",
       "Name: instance_id, Length: 3921, dtype: object"
      ]
     },
     "execution_count": 145,
     "metadata": {},
     "output_type": "execute_result"
    }
   ],
   "source": [
    "test_index"
   ]
  },
  {
   "cell_type": "code",
   "execution_count": 146,
   "id": "29949649",
   "metadata": {},
   "outputs": [],
   "source": [
    "pred_df = pd.DataFrame({'instance_id' : test_index, 'music_genre' : predicted_genres}, columns = ['instance_id', 'music_genre'])"
   ]
  },
  {
   "cell_type": "code",
   "execution_count": 147,
   "id": "e64f2358",
   "metadata": {},
   "outputs": [
    {
     "data": {
      "text/html": [
       "<div>\n",
       "<style scoped>\n",
       "    .dataframe tbody tr th:only-of-type {\n",
       "        vertical-align: middle;\n",
       "    }\n",
       "\n",
       "    .dataframe tbody tr th {\n",
       "        vertical-align: top;\n",
       "    }\n",
       "\n",
       "    .dataframe thead th {\n",
       "        text-align: right;\n",
       "    }\n",
       "</style>\n",
       "<table border=\"1\" class=\"dataframe\">\n",
       "  <thead>\n",
       "    <tr style=\"text-align: right;\">\n",
       "      <th></th>\n",
       "      <th>instance_id</th>\n",
       "      <th>music_genre</th>\n",
       "    </tr>\n",
       "  </thead>\n",
       "  <tbody>\n",
       "    <tr>\n",
       "      <th>0</th>\n",
       "      <td>MSC_70753.0</td>\n",
       "      <td>Classical</td>\n",
       "    </tr>\n",
       "    <tr>\n",
       "      <th>1</th>\n",
       "      <td>MSC_24064.0</td>\n",
       "      <td>Rock</td>\n",
       "    </tr>\n",
       "    <tr>\n",
       "      <th>2</th>\n",
       "      <td>MSC_22731.0</td>\n",
       "      <td>Rock</td>\n",
       "    </tr>\n",
       "    <tr>\n",
       "      <th>3</th>\n",
       "      <td>MSC_32095.0</td>\n",
       "      <td>Rock</td>\n",
       "    </tr>\n",
       "    <tr>\n",
       "      <th>4</th>\n",
       "      <td>MSC_24198.0</td>\n",
       "      <td>Jazz</td>\n",
       "    </tr>\n",
       "    <tr>\n",
       "      <th>...</th>\n",
       "      <td>...</td>\n",
       "      <td>...</td>\n",
       "    </tr>\n",
       "    <tr>\n",
       "      <th>3916</th>\n",
       "      <td>MSC_80955.0</td>\n",
       "      <td>Classical</td>\n",
       "    </tr>\n",
       "    <tr>\n",
       "      <th>3917</th>\n",
       "      <td>MSC_72767.0</td>\n",
       "      <td>Rock</td>\n",
       "    </tr>\n",
       "    <tr>\n",
       "      <th>3918</th>\n",
       "      <td>MSC_40192.0</td>\n",
       "      <td>Classical</td>\n",
       "    </tr>\n",
       "    <tr>\n",
       "      <th>3919</th>\n",
       "      <td>MSC_56067.0</td>\n",
       "      <td>Rock</td>\n",
       "    </tr>\n",
       "    <tr>\n",
       "      <th>3920</th>\n",
       "      <td>MSC_90169.0</td>\n",
       "      <td>Jazz</td>\n",
       "    </tr>\n",
       "  </tbody>\n",
       "</table>\n",
       "<p>3921 rows × 2 columns</p>\n",
       "</div>"
      ],
      "text/plain": [
       "      instance_id music_genre\n",
       "0     MSC_70753.0   Classical\n",
       "1     MSC_24064.0        Rock\n",
       "2     MSC_22731.0        Rock\n",
       "3     MSC_32095.0        Rock\n",
       "4     MSC_24198.0        Jazz\n",
       "...           ...         ...\n",
       "3916  MSC_80955.0   Classical\n",
       "3917  MSC_72767.0        Rock\n",
       "3918  MSC_40192.0   Classical\n",
       "3919  MSC_56067.0        Rock\n",
       "3920  MSC_90169.0        Jazz\n",
       "\n",
       "[3921 rows x 2 columns]"
      ]
     },
     "execution_count": 147,
     "metadata": {},
     "output_type": "execute_result"
    }
   ],
   "source": [
    "pred_df"
   ]
  },
  {
   "cell_type": "code",
   "execution_count": 148,
   "id": "b816769b",
   "metadata": {},
   "outputs": [],
   "source": [
    "pred_df.to_csv(\"best_generalized_model_results.csv\")"
   ]
  },
  {
   "cell_type": "code",
   "execution_count": null,
   "id": "484e3b7d",
   "metadata": {},
   "outputs": [],
   "source": [
    "\n",
    "\n"
   ]
  }
 ],
 "metadata": {
  "kernelspec": {
   "display_name": "Python 3",
   "language": "python",
   "name": "python3"
  },
  "language_info": {
   "codemirror_mode": {
    "name": "ipython",
    "version": 3
   },
   "file_extension": ".py",
   "mimetype": "text/x-python",
   "name": "python",
   "nbconvert_exporter": "python",
   "pygments_lexer": "ipython3",
   "version": "3.7.10"
  }
 },
 "nbformat": 4,
 "nbformat_minor": 5
}
